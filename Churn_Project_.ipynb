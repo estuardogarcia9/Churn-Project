{
  "nbformat": 4,
  "nbformat_minor": 0,
  "metadata": {
    "colab": {
      "provenance": []
    },
    "kernelspec": {
      "name": "python3",
      "display_name": "Python 3"
    },
    "language_info": {
      "name": "python"
    }
  },
  "cells": [
    {
      "cell_type": "markdown",
      "source": [
        "#***1***. Visión general del proyecto\n",
        "\n",
        "*   En este proyecto de predicción de churn se desarrolla un modelo de machine\n",
        "learning capaz de anticipar qué clientes tienen mayor probabilidad de cancelar su suscripción. Reducir la tasa de churn es clave para maximizar los ingresos de la empresa y optimizar el gasto en adquisición de nuevos clientes. Aquí exploraremos los factores principales que impulsan la pérdida de usuarios y construiremos un clasificador robusto capaz de apoyar decisiones de retención."
      ],
      "metadata": {
        "id": "-cz7NSDwed_I"
      }
    },
    {
      "cell_type": "markdown",
      "source": [
        "#***2***. Descripción de los datos\n",
        "\n",
        "Los datos provienen de un histórico de clientes en formato CSV e incluyen:\n",
        "\n",
        "\n",
        "\n",
        "*   Demográficos: edad, género.\n",
        "*   Métricas de uso: duración de la suscripción (meses), frecuencia de uso del servicio.\n",
        "*   Facturación: importe mensual, número de pagos atrasados.\n",
        "*   Atención al cliente: cantidad de tickets o incidencias abiertas, tiempo medio de respuesta.\n",
        "\n",
        "\n",
        "\n",
        "La variable objetivo churn indica si el cliente canceló su servicio (1 = churn, 0 = retención)."
      ],
      "metadata": {
        "id": "a1tulyNjfv9G"
      }
    },
    {
      "cell_type": "markdown",
      "source": [
        "#3. Metodología\n",
        "\n",
        "El flujo de trabajo consta de cinco fases:\n",
        "\n",
        "\n",
        "\n",
        "1.   Análisis exploratorio (EDA):\n",
        "\n",
        "\n",
        "*   Inspección de valores faltantes.\n",
        "*   Distribución de variables y desequilibrio de clases\n",
        "*   Correlaciones y visualización de relaciones clave.\n",
        "\n",
        "\n",
        "2.   Limpieza y preprocesamiento:\n",
        "\n",
        "\n",
        "*   Imputación de valores nulos.\n",
        "*   Codificación de variables categóricas con OneHotEncoder.\n",
        "*   Escalado de variables numéricas con StandardScaler.\n",
        "\n",
        "\n",
        "3. Ingeniería de características:\n",
        "\n",
        "\n",
        "*  Creación de ratios (por ejemplo, tickets_soporte / antigüedad).\n",
        "\n",
        "*  Flags binarios (por ejemplo, pagos_retrasados > 0).\n",
        "\n",
        "*  Selección de las variables más informativas.\n",
        "\n",
        "\n",
        "4. Modelado y ajuste:\n",
        "\n",
        "\n",
        "*  Entrenamiento de varios clasificadores (Regresión Logística, Random Forest, Gradient Boosting y SVM).\n",
        "\n",
        "*  Validación cruzada (5-fold) y búsqueda de hiperparámetros con GridSearchCV.\n",
        "\n",
        "*  Manejo del desequilibrio con class_weight='balanced' o SMOTE.\n",
        "\n",
        "\n",
        "5. Evaluación e interpretación:\n",
        "\n",
        "\n",
        "*  Métricas: ROC-AUC, precisión, recall, F1 y matriz de confusión.\n",
        "\n",
        "*  Curvas ROC y de precisión-recall.\n",
        "\n",
        "*  Análisis de importancia de variables y explicaciones con SHAP.\n",
        "\n"
      ],
      "metadata": {
        "id": "Gcd0MU7JgjLo"
      }
    },
    {
      "cell_type": "markdown",
      "source": [
        "#Librerias"
      ],
      "metadata": {
        "id": "FH3uNJDmbxrx"
      }
    },
    {
      "cell_type": "code",
      "execution_count": null,
      "metadata": {
        "id": "a3Tee2nQkXIC"
      },
      "outputs": [],
      "source": [
        "\n",
        "\n",
        "import numpy as np\n",
        "import pandas as pd\n",
        "import matplotlib.pyplot as plt\n",
        "import plotly.express as px\n",
        "import seaborn as sns\n",
        "\n",
        "from sklearn.model_selection import train_test_split, GridSearchCV\n",
        "from sklearn.linear_model import LogisticRegression\n",
        "from sklearn.neighbors import KNeighborsClassifier\n",
        "from sklearn.svm import SVC\n",
        "from sklearn.preprocessing import StandardScaler, MinMaxScaler\n",
        "from sklearn.metrics import accuracy_score, confusion_matrix, classification_report, roc_auc_score, roc_curve\n",
        "from sklearn.metrics import precision_recall_fscore_support, classification_report\n",
        "from sklearn.linear_model import SGDClassifier\n",
        "from sklearn.metrics import accuracy_score, classification_report, confusion_matrix\n",
        "\n",
        "import warnings\n",
        "warnings.filterwarnings(\"ignore\")"
      ]
    },
    {
      "cell_type": "markdown",
      "source": [
        "#Importar Dataset"
      ],
      "metadata": {
        "id": "8RUInuljcAH7"
      }
    },
    {
      "cell_type": "code",
      "source": [
        "\n",
        "df =pd.read_csv(\"customer_churn_dataset-training-master.csv\")\n",
        "df"
      ],
      "metadata": {
        "colab": {
          "base_uri": "https://localhost:8080/",
          "height": 441
        },
        "id": "P81GVgpokfJW",
        "outputId": "8920715c-6058-41eb-f104-420723bab4f6"
      },
      "execution_count": null,
      "outputs": [
        {
          "output_type": "execute_result",
          "data": {
            "text/plain": [
              "        CustomerID   Age  Gender  Tenure  Usage Frequency  Support Calls  \\\n",
              "0              2.0  30.0  Female    39.0             14.0            5.0   \n",
              "1              3.0  65.0  Female    49.0              1.0           10.0   \n",
              "2              4.0  55.0  Female    14.0              4.0            6.0   \n",
              "3              5.0  58.0    Male    38.0             21.0            7.0   \n",
              "4              6.0  23.0    Male    32.0             20.0            5.0   \n",
              "...            ...   ...     ...     ...              ...            ...   \n",
              "440828    449995.0  42.0    Male    54.0             15.0            1.0   \n",
              "440829    449996.0  25.0  Female     8.0             13.0            1.0   \n",
              "440830    449997.0  26.0    Male    35.0             27.0            1.0   \n",
              "440831    449998.0  28.0    Male    55.0             14.0            2.0   \n",
              "440832    449999.0  31.0    Male    48.0             20.0            1.0   \n",
              "\n",
              "        Payment Delay Subscription Type Contract Length  Total Spend  \\\n",
              "0                18.0          Standard          Annual       932.00   \n",
              "1                 8.0             Basic         Monthly       557.00   \n",
              "2                18.0             Basic       Quarterly       185.00   \n",
              "3                 7.0          Standard         Monthly       396.00   \n",
              "4                 8.0             Basic         Monthly       617.00   \n",
              "...               ...               ...             ...          ...   \n",
              "440828            3.0           Premium          Annual       716.38   \n",
              "440829           20.0           Premium          Annual       745.38   \n",
              "440830            5.0          Standard       Quarterly       977.31   \n",
              "440831            0.0          Standard       Quarterly       602.55   \n",
              "440832           14.0           Premium       Quarterly       567.77   \n",
              "\n",
              "        Last Interaction  Churn  \n",
              "0                   17.0    1.0  \n",
              "1                    6.0    1.0  \n",
              "2                    3.0    1.0  \n",
              "3                   29.0    1.0  \n",
              "4                   20.0    1.0  \n",
              "...                  ...    ...  \n",
              "440828               8.0    0.0  \n",
              "440829               2.0    0.0  \n",
              "440830               9.0    0.0  \n",
              "440831               2.0    0.0  \n",
              "440832              21.0    0.0  \n",
              "\n",
              "[440833 rows x 12 columns]"
            ],
            "text/html": [
              "\n",
              "  <div id=\"df-adf27bd5-9104-4631-87cd-7e318da9c9fb\" class=\"colab-df-container\">\n",
              "    <div>\n",
              "<style scoped>\n",
              "    .dataframe tbody tr th:only-of-type {\n",
              "        vertical-align: middle;\n",
              "    }\n",
              "\n",
              "    .dataframe tbody tr th {\n",
              "        vertical-align: top;\n",
              "    }\n",
              "\n",
              "    .dataframe thead th {\n",
              "        text-align: right;\n",
              "    }\n",
              "</style>\n",
              "<table border=\"1\" class=\"dataframe\">\n",
              "  <thead>\n",
              "    <tr style=\"text-align: right;\">\n",
              "      <th></th>\n",
              "      <th>CustomerID</th>\n",
              "      <th>Age</th>\n",
              "      <th>Gender</th>\n",
              "      <th>Tenure</th>\n",
              "      <th>Usage Frequency</th>\n",
              "      <th>Support Calls</th>\n",
              "      <th>Payment Delay</th>\n",
              "      <th>Subscription Type</th>\n",
              "      <th>Contract Length</th>\n",
              "      <th>Total Spend</th>\n",
              "      <th>Last Interaction</th>\n",
              "      <th>Churn</th>\n",
              "    </tr>\n",
              "  </thead>\n",
              "  <tbody>\n",
              "    <tr>\n",
              "      <th>0</th>\n",
              "      <td>2.0</td>\n",
              "      <td>30.0</td>\n",
              "      <td>Female</td>\n",
              "      <td>39.0</td>\n",
              "      <td>14.0</td>\n",
              "      <td>5.0</td>\n",
              "      <td>18.0</td>\n",
              "      <td>Standard</td>\n",
              "      <td>Annual</td>\n",
              "      <td>932.00</td>\n",
              "      <td>17.0</td>\n",
              "      <td>1.0</td>\n",
              "    </tr>\n",
              "    <tr>\n",
              "      <th>1</th>\n",
              "      <td>3.0</td>\n",
              "      <td>65.0</td>\n",
              "      <td>Female</td>\n",
              "      <td>49.0</td>\n",
              "      <td>1.0</td>\n",
              "      <td>10.0</td>\n",
              "      <td>8.0</td>\n",
              "      <td>Basic</td>\n",
              "      <td>Monthly</td>\n",
              "      <td>557.00</td>\n",
              "      <td>6.0</td>\n",
              "      <td>1.0</td>\n",
              "    </tr>\n",
              "    <tr>\n",
              "      <th>2</th>\n",
              "      <td>4.0</td>\n",
              "      <td>55.0</td>\n",
              "      <td>Female</td>\n",
              "      <td>14.0</td>\n",
              "      <td>4.0</td>\n",
              "      <td>6.0</td>\n",
              "      <td>18.0</td>\n",
              "      <td>Basic</td>\n",
              "      <td>Quarterly</td>\n",
              "      <td>185.00</td>\n",
              "      <td>3.0</td>\n",
              "      <td>1.0</td>\n",
              "    </tr>\n",
              "    <tr>\n",
              "      <th>3</th>\n",
              "      <td>5.0</td>\n",
              "      <td>58.0</td>\n",
              "      <td>Male</td>\n",
              "      <td>38.0</td>\n",
              "      <td>21.0</td>\n",
              "      <td>7.0</td>\n",
              "      <td>7.0</td>\n",
              "      <td>Standard</td>\n",
              "      <td>Monthly</td>\n",
              "      <td>396.00</td>\n",
              "      <td>29.0</td>\n",
              "      <td>1.0</td>\n",
              "    </tr>\n",
              "    <tr>\n",
              "      <th>4</th>\n",
              "      <td>6.0</td>\n",
              "      <td>23.0</td>\n",
              "      <td>Male</td>\n",
              "      <td>32.0</td>\n",
              "      <td>20.0</td>\n",
              "      <td>5.0</td>\n",
              "      <td>8.0</td>\n",
              "      <td>Basic</td>\n",
              "      <td>Monthly</td>\n",
              "      <td>617.00</td>\n",
              "      <td>20.0</td>\n",
              "      <td>1.0</td>\n",
              "    </tr>\n",
              "    <tr>\n",
              "      <th>...</th>\n",
              "      <td>...</td>\n",
              "      <td>...</td>\n",
              "      <td>...</td>\n",
              "      <td>...</td>\n",
              "      <td>...</td>\n",
              "      <td>...</td>\n",
              "      <td>...</td>\n",
              "      <td>...</td>\n",
              "      <td>...</td>\n",
              "      <td>...</td>\n",
              "      <td>...</td>\n",
              "      <td>...</td>\n",
              "    </tr>\n",
              "    <tr>\n",
              "      <th>440828</th>\n",
              "      <td>449995.0</td>\n",
              "      <td>42.0</td>\n",
              "      <td>Male</td>\n",
              "      <td>54.0</td>\n",
              "      <td>15.0</td>\n",
              "      <td>1.0</td>\n",
              "      <td>3.0</td>\n",
              "      <td>Premium</td>\n",
              "      <td>Annual</td>\n",
              "      <td>716.38</td>\n",
              "      <td>8.0</td>\n",
              "      <td>0.0</td>\n",
              "    </tr>\n",
              "    <tr>\n",
              "      <th>440829</th>\n",
              "      <td>449996.0</td>\n",
              "      <td>25.0</td>\n",
              "      <td>Female</td>\n",
              "      <td>8.0</td>\n",
              "      <td>13.0</td>\n",
              "      <td>1.0</td>\n",
              "      <td>20.0</td>\n",
              "      <td>Premium</td>\n",
              "      <td>Annual</td>\n",
              "      <td>745.38</td>\n",
              "      <td>2.0</td>\n",
              "      <td>0.0</td>\n",
              "    </tr>\n",
              "    <tr>\n",
              "      <th>440830</th>\n",
              "      <td>449997.0</td>\n",
              "      <td>26.0</td>\n",
              "      <td>Male</td>\n",
              "      <td>35.0</td>\n",
              "      <td>27.0</td>\n",
              "      <td>1.0</td>\n",
              "      <td>5.0</td>\n",
              "      <td>Standard</td>\n",
              "      <td>Quarterly</td>\n",
              "      <td>977.31</td>\n",
              "      <td>9.0</td>\n",
              "      <td>0.0</td>\n",
              "    </tr>\n",
              "    <tr>\n",
              "      <th>440831</th>\n",
              "      <td>449998.0</td>\n",
              "      <td>28.0</td>\n",
              "      <td>Male</td>\n",
              "      <td>55.0</td>\n",
              "      <td>14.0</td>\n",
              "      <td>2.0</td>\n",
              "      <td>0.0</td>\n",
              "      <td>Standard</td>\n",
              "      <td>Quarterly</td>\n",
              "      <td>602.55</td>\n",
              "      <td>2.0</td>\n",
              "      <td>0.0</td>\n",
              "    </tr>\n",
              "    <tr>\n",
              "      <th>440832</th>\n",
              "      <td>449999.0</td>\n",
              "      <td>31.0</td>\n",
              "      <td>Male</td>\n",
              "      <td>48.0</td>\n",
              "      <td>20.0</td>\n",
              "      <td>1.0</td>\n",
              "      <td>14.0</td>\n",
              "      <td>Premium</td>\n",
              "      <td>Quarterly</td>\n",
              "      <td>567.77</td>\n",
              "      <td>21.0</td>\n",
              "      <td>0.0</td>\n",
              "    </tr>\n",
              "  </tbody>\n",
              "</table>\n",
              "<p>440833 rows × 12 columns</p>\n",
              "</div>\n",
              "    <div class=\"colab-df-buttons\">\n",
              "\n",
              "  <div class=\"colab-df-container\">\n",
              "    <button class=\"colab-df-convert\" onclick=\"convertToInteractive('df-adf27bd5-9104-4631-87cd-7e318da9c9fb')\"\n",
              "            title=\"Convert this dataframe to an interactive table.\"\n",
              "            style=\"display:none;\">\n",
              "\n",
              "  <svg xmlns=\"http://www.w3.org/2000/svg\" height=\"24px\" viewBox=\"0 -960 960 960\">\n",
              "    <path d=\"M120-120v-720h720v720H120Zm60-500h600v-160H180v160Zm220 220h160v-160H400v160Zm0 220h160v-160H400v160ZM180-400h160v-160H180v160Zm440 0h160v-160H620v160ZM180-180h160v-160H180v160Zm440 0h160v-160H620v160Z\"/>\n",
              "  </svg>\n",
              "    </button>\n",
              "\n",
              "  <style>\n",
              "    .colab-df-container {\n",
              "      display:flex;\n",
              "      gap: 12px;\n",
              "    }\n",
              "\n",
              "    .colab-df-convert {\n",
              "      background-color: #E8F0FE;\n",
              "      border: none;\n",
              "      border-radius: 50%;\n",
              "      cursor: pointer;\n",
              "      display: none;\n",
              "      fill: #1967D2;\n",
              "      height: 32px;\n",
              "      padding: 0 0 0 0;\n",
              "      width: 32px;\n",
              "    }\n",
              "\n",
              "    .colab-df-convert:hover {\n",
              "      background-color: #E2EBFA;\n",
              "      box-shadow: 0px 1px 2px rgba(60, 64, 67, 0.3), 0px 1px 3px 1px rgba(60, 64, 67, 0.15);\n",
              "      fill: #174EA6;\n",
              "    }\n",
              "\n",
              "    .colab-df-buttons div {\n",
              "      margin-bottom: 4px;\n",
              "    }\n",
              "\n",
              "    [theme=dark] .colab-df-convert {\n",
              "      background-color: #3B4455;\n",
              "      fill: #D2E3FC;\n",
              "    }\n",
              "\n",
              "    [theme=dark] .colab-df-convert:hover {\n",
              "      background-color: #434B5C;\n",
              "      box-shadow: 0px 1px 3px 1px rgba(0, 0, 0, 0.15);\n",
              "      filter: drop-shadow(0px 1px 2px rgba(0, 0, 0, 0.3));\n",
              "      fill: #FFFFFF;\n",
              "    }\n",
              "  </style>\n",
              "\n",
              "    <script>\n",
              "      const buttonEl =\n",
              "        document.querySelector('#df-adf27bd5-9104-4631-87cd-7e318da9c9fb button.colab-df-convert');\n",
              "      buttonEl.style.display =\n",
              "        google.colab.kernel.accessAllowed ? 'block' : 'none';\n",
              "\n",
              "      async function convertToInteractive(key) {\n",
              "        const element = document.querySelector('#df-adf27bd5-9104-4631-87cd-7e318da9c9fb');\n",
              "        const dataTable =\n",
              "          await google.colab.kernel.invokeFunction('convertToInteractive',\n",
              "                                                    [key], {});\n",
              "        if (!dataTable) return;\n",
              "\n",
              "        const docLinkHtml = 'Like what you see? Visit the ' +\n",
              "          '<a target=\"_blank\" href=https://colab.research.google.com/notebooks/data_table.ipynb>data table notebook</a>'\n",
              "          + ' to learn more about interactive tables.';\n",
              "        element.innerHTML = '';\n",
              "        dataTable['output_type'] = 'display_data';\n",
              "        await google.colab.output.renderOutput(dataTable, element);\n",
              "        const docLink = document.createElement('div');\n",
              "        docLink.innerHTML = docLinkHtml;\n",
              "        element.appendChild(docLink);\n",
              "      }\n",
              "    </script>\n",
              "  </div>\n",
              "\n",
              "\n",
              "<div id=\"df-6409379a-28f5-4a0c-8aa5-0a780dba8c43\">\n",
              "  <button class=\"colab-df-quickchart\" onclick=\"quickchart('df-6409379a-28f5-4a0c-8aa5-0a780dba8c43')\"\n",
              "            title=\"Suggest charts\"\n",
              "            style=\"display:none;\">\n",
              "\n",
              "<svg xmlns=\"http://www.w3.org/2000/svg\" height=\"24px\"viewBox=\"0 0 24 24\"\n",
              "     width=\"24px\">\n",
              "    <g>\n",
              "        <path d=\"M19 3H5c-1.1 0-2 .9-2 2v14c0 1.1.9 2 2 2h14c1.1 0 2-.9 2-2V5c0-1.1-.9-2-2-2zM9 17H7v-7h2v7zm4 0h-2V7h2v10zm4 0h-2v-4h2v4z\"/>\n",
              "    </g>\n",
              "</svg>\n",
              "  </button>\n",
              "\n",
              "<style>\n",
              "  .colab-df-quickchart {\n",
              "      --bg-color: #E8F0FE;\n",
              "      --fill-color: #1967D2;\n",
              "      --hover-bg-color: #E2EBFA;\n",
              "      --hover-fill-color: #174EA6;\n",
              "      --disabled-fill-color: #AAA;\n",
              "      --disabled-bg-color: #DDD;\n",
              "  }\n",
              "\n",
              "  [theme=dark] .colab-df-quickchart {\n",
              "      --bg-color: #3B4455;\n",
              "      --fill-color: #D2E3FC;\n",
              "      --hover-bg-color: #434B5C;\n",
              "      --hover-fill-color: #FFFFFF;\n",
              "      --disabled-bg-color: #3B4455;\n",
              "      --disabled-fill-color: #666;\n",
              "  }\n",
              "\n",
              "  .colab-df-quickchart {\n",
              "    background-color: var(--bg-color);\n",
              "    border: none;\n",
              "    border-radius: 50%;\n",
              "    cursor: pointer;\n",
              "    display: none;\n",
              "    fill: var(--fill-color);\n",
              "    height: 32px;\n",
              "    padding: 0;\n",
              "    width: 32px;\n",
              "  }\n",
              "\n",
              "  .colab-df-quickchart:hover {\n",
              "    background-color: var(--hover-bg-color);\n",
              "    box-shadow: 0 1px 2px rgba(60, 64, 67, 0.3), 0 1px 3px 1px rgba(60, 64, 67, 0.15);\n",
              "    fill: var(--button-hover-fill-color);\n",
              "  }\n",
              "\n",
              "  .colab-df-quickchart-complete:disabled,\n",
              "  .colab-df-quickchart-complete:disabled:hover {\n",
              "    background-color: var(--disabled-bg-color);\n",
              "    fill: var(--disabled-fill-color);\n",
              "    box-shadow: none;\n",
              "  }\n",
              "\n",
              "  .colab-df-spinner {\n",
              "    border: 2px solid var(--fill-color);\n",
              "    border-color: transparent;\n",
              "    border-bottom-color: var(--fill-color);\n",
              "    animation:\n",
              "      spin 1s steps(1) infinite;\n",
              "  }\n",
              "\n",
              "  @keyframes spin {\n",
              "    0% {\n",
              "      border-color: transparent;\n",
              "      border-bottom-color: var(--fill-color);\n",
              "      border-left-color: var(--fill-color);\n",
              "    }\n",
              "    20% {\n",
              "      border-color: transparent;\n",
              "      border-left-color: var(--fill-color);\n",
              "      border-top-color: var(--fill-color);\n",
              "    }\n",
              "    30% {\n",
              "      border-color: transparent;\n",
              "      border-left-color: var(--fill-color);\n",
              "      border-top-color: var(--fill-color);\n",
              "      border-right-color: var(--fill-color);\n",
              "    }\n",
              "    40% {\n",
              "      border-color: transparent;\n",
              "      border-right-color: var(--fill-color);\n",
              "      border-top-color: var(--fill-color);\n",
              "    }\n",
              "    60% {\n",
              "      border-color: transparent;\n",
              "      border-right-color: var(--fill-color);\n",
              "    }\n",
              "    80% {\n",
              "      border-color: transparent;\n",
              "      border-right-color: var(--fill-color);\n",
              "      border-bottom-color: var(--fill-color);\n",
              "    }\n",
              "    90% {\n",
              "      border-color: transparent;\n",
              "      border-bottom-color: var(--fill-color);\n",
              "    }\n",
              "  }\n",
              "</style>\n",
              "\n",
              "  <script>\n",
              "    async function quickchart(key) {\n",
              "      const quickchartButtonEl =\n",
              "        document.querySelector('#' + key + ' button');\n",
              "      quickchartButtonEl.disabled = true;  // To prevent multiple clicks.\n",
              "      quickchartButtonEl.classList.add('colab-df-spinner');\n",
              "      try {\n",
              "        const charts = await google.colab.kernel.invokeFunction(\n",
              "            'suggestCharts', [key], {});\n",
              "      } catch (error) {\n",
              "        console.error('Error during call to suggestCharts:', error);\n",
              "      }\n",
              "      quickchartButtonEl.classList.remove('colab-df-spinner');\n",
              "      quickchartButtonEl.classList.add('colab-df-quickchart-complete');\n",
              "    }\n",
              "    (() => {\n",
              "      let quickchartButtonEl =\n",
              "        document.querySelector('#df-6409379a-28f5-4a0c-8aa5-0a780dba8c43 button');\n",
              "      quickchartButtonEl.style.display =\n",
              "        google.colab.kernel.accessAllowed ? 'block' : 'none';\n",
              "    })();\n",
              "  </script>\n",
              "</div>\n",
              "\n",
              "  <div id=\"id_26fe3e46-e989-49a6-9418-b5cf844a71c2\">\n",
              "    <style>\n",
              "      .colab-df-generate {\n",
              "        background-color: #E8F0FE;\n",
              "        border: none;\n",
              "        border-radius: 50%;\n",
              "        cursor: pointer;\n",
              "        display: none;\n",
              "        fill: #1967D2;\n",
              "        height: 32px;\n",
              "        padding: 0 0 0 0;\n",
              "        width: 32px;\n",
              "      }\n",
              "\n",
              "      .colab-df-generate:hover {\n",
              "        background-color: #E2EBFA;\n",
              "        box-shadow: 0px 1px 2px rgba(60, 64, 67, 0.3), 0px 1px 3px 1px rgba(60, 64, 67, 0.15);\n",
              "        fill: #174EA6;\n",
              "      }\n",
              "\n",
              "      [theme=dark] .colab-df-generate {\n",
              "        background-color: #3B4455;\n",
              "        fill: #D2E3FC;\n",
              "      }\n",
              "\n",
              "      [theme=dark] .colab-df-generate:hover {\n",
              "        background-color: #434B5C;\n",
              "        box-shadow: 0px 1px 3px 1px rgba(0, 0, 0, 0.15);\n",
              "        filter: drop-shadow(0px 1px 2px rgba(0, 0, 0, 0.3));\n",
              "        fill: #FFFFFF;\n",
              "      }\n",
              "    </style>\n",
              "    <button class=\"colab-df-generate\" onclick=\"generateWithVariable('df')\"\n",
              "            title=\"Generate code using this dataframe.\"\n",
              "            style=\"display:none;\">\n",
              "\n",
              "  <svg xmlns=\"http://www.w3.org/2000/svg\" height=\"24px\"viewBox=\"0 0 24 24\"\n",
              "       width=\"24px\">\n",
              "    <path d=\"M7,19H8.4L18.45,9,17,7.55,7,17.6ZM5,21V16.75L18.45,3.32a2,2,0,0,1,2.83,0l1.4,1.43a1.91,1.91,0,0,1,.58,1.4,1.91,1.91,0,0,1-.58,1.4L9.25,21ZM18.45,9,17,7.55Zm-12,3A5.31,5.31,0,0,0,4.9,8.1,5.31,5.31,0,0,0,1,6.5,5.31,5.31,0,0,0,4.9,4.9,5.31,5.31,0,0,0,6.5,1,5.31,5.31,0,0,0,8.1,4.9,5.31,5.31,0,0,0,12,6.5,5.46,5.46,0,0,0,6.5,12Z\"/>\n",
              "  </svg>\n",
              "    </button>\n",
              "    <script>\n",
              "      (() => {\n",
              "      const buttonEl =\n",
              "        document.querySelector('#id_26fe3e46-e989-49a6-9418-b5cf844a71c2 button.colab-df-generate');\n",
              "      buttonEl.style.display =\n",
              "        google.colab.kernel.accessAllowed ? 'block' : 'none';\n",
              "\n",
              "      buttonEl.onclick = () => {\n",
              "        google.colab.notebook.generateWithVariable('df');\n",
              "      }\n",
              "      })();\n",
              "    </script>\n",
              "  </div>\n",
              "\n",
              "    </div>\n",
              "  </div>\n"
            ],
            "application/vnd.google.colaboratory.intrinsic+json": {
              "type": "dataframe",
              "variable_name": "df"
            }
          },
          "metadata": {},
          "execution_count": 2
        }
      ]
    },
    {
      "cell_type": "markdown",
      "source": [
        "#Eliminar Costumer Id ya que no será de utilidad"
      ],
      "metadata": {
        "id": "QqRD9xqicT_g"
      }
    },
    {
      "cell_type": "code",
      "source": [
        "\n",
        "df = df.drop(columns = 'CustomerID')"
      ],
      "metadata": {
        "id": "CCoTfBKrlYNL"
      },
      "execution_count": null,
      "outputs": []
    },
    {
      "cell_type": "code",
      "source": [
        "#Descripción del dataset\n",
        "\n",
        "df.info()\n",
        "df.describe()\n",
        "df.isnull().sum()\n",
        "df.columns\n",
        "\n"
      ],
      "metadata": {
        "colab": {
          "base_uri": "https://localhost:8080/"
        },
        "id": "Tf7YOcw6k6k6",
        "outputId": "c34a00e1-8e37-4499-9397-55870bbcdeee"
      },
      "execution_count": null,
      "outputs": [
        {
          "output_type": "stream",
          "name": "stdout",
          "text": [
            "<class 'pandas.core.frame.DataFrame'>\n",
            "RangeIndex: 440833 entries, 0 to 440832\n",
            "Data columns (total 11 columns):\n",
            " #   Column             Non-Null Count   Dtype  \n",
            "---  ------             --------------   -----  \n",
            " 0   Age                440832 non-null  float64\n",
            " 1   Gender             440832 non-null  object \n",
            " 2   Tenure             440832 non-null  float64\n",
            " 3   Usage Frequency    440832 non-null  float64\n",
            " 4   Support Calls      440832 non-null  float64\n",
            " 5   Payment Delay      440832 non-null  float64\n",
            " 6   Subscription Type  440832 non-null  object \n",
            " 7   Contract Length    440832 non-null  object \n",
            " 8   Total Spend        440832 non-null  float64\n",
            " 9   Last Interaction   440832 non-null  float64\n",
            " 10  Churn              440832 non-null  float64\n",
            "dtypes: float64(8), object(3)\n",
            "memory usage: 37.0+ MB\n"
          ]
        },
        {
          "output_type": "execute_result",
          "data": {
            "text/plain": [
              "Index(['Age', 'Gender', 'Tenure', 'Usage Frequency', 'Support Calls',\n",
              "       'Payment Delay', 'Subscription Type', 'Contract Length', 'Total Spend',\n",
              "       'Last Interaction', 'Churn'],\n",
              "      dtype='object')"
            ]
          },
          "metadata": {},
          "execution_count": 4
        }
      ]
    },
    {
      "cell_type": "code",
      "source": [
        "#Verificar si hay valores nulos\n",
        "\n",
        "df.isna().sum()"
      ],
      "metadata": {
        "colab": {
          "base_uri": "https://localhost:8080/",
          "height": 429
        },
        "id": "6S_M0lGalgPo",
        "outputId": "20e42006-5265-4b35-a211-9a7ec733e751"
      },
      "execution_count": null,
      "outputs": [
        {
          "output_type": "execute_result",
          "data": {
            "text/plain": [
              "Age                  1\n",
              "Gender               1\n",
              "Tenure               1\n",
              "Usage Frequency      1\n",
              "Support Calls        1\n",
              "Payment Delay        1\n",
              "Subscription Type    1\n",
              "Contract Length      1\n",
              "Total Spend          1\n",
              "Last Interaction     1\n",
              "Churn                1\n",
              "dtype: int64"
            ],
            "text/html": [
              "<div>\n",
              "<style scoped>\n",
              "    .dataframe tbody tr th:only-of-type {\n",
              "        vertical-align: middle;\n",
              "    }\n",
              "\n",
              "    .dataframe tbody tr th {\n",
              "        vertical-align: top;\n",
              "    }\n",
              "\n",
              "    .dataframe thead th {\n",
              "        text-align: right;\n",
              "    }\n",
              "</style>\n",
              "<table border=\"1\" class=\"dataframe\">\n",
              "  <thead>\n",
              "    <tr style=\"text-align: right;\">\n",
              "      <th></th>\n",
              "      <th>0</th>\n",
              "    </tr>\n",
              "  </thead>\n",
              "  <tbody>\n",
              "    <tr>\n",
              "      <th>Age</th>\n",
              "      <td>1</td>\n",
              "    </tr>\n",
              "    <tr>\n",
              "      <th>Gender</th>\n",
              "      <td>1</td>\n",
              "    </tr>\n",
              "    <tr>\n",
              "      <th>Tenure</th>\n",
              "      <td>1</td>\n",
              "    </tr>\n",
              "    <tr>\n",
              "      <th>Usage Frequency</th>\n",
              "      <td>1</td>\n",
              "    </tr>\n",
              "    <tr>\n",
              "      <th>Support Calls</th>\n",
              "      <td>1</td>\n",
              "    </tr>\n",
              "    <tr>\n",
              "      <th>Payment Delay</th>\n",
              "      <td>1</td>\n",
              "    </tr>\n",
              "    <tr>\n",
              "      <th>Subscription Type</th>\n",
              "      <td>1</td>\n",
              "    </tr>\n",
              "    <tr>\n",
              "      <th>Contract Length</th>\n",
              "      <td>1</td>\n",
              "    </tr>\n",
              "    <tr>\n",
              "      <th>Total Spend</th>\n",
              "      <td>1</td>\n",
              "    </tr>\n",
              "    <tr>\n",
              "      <th>Last Interaction</th>\n",
              "      <td>1</td>\n",
              "    </tr>\n",
              "    <tr>\n",
              "      <th>Churn</th>\n",
              "      <td>1</td>\n",
              "    </tr>\n",
              "  </tbody>\n",
              "</table>\n",
              "</div><br><label><b>dtype:</b> int64</label>"
            ]
          },
          "metadata": {},
          "execution_count": 5
        }
      ]
    },
    {
      "cell_type": "code",
      "source": [
        "#Identificar fila/s donde hayan valores nulos\n",
        "\n",
        "df[df['Gender'].isna()]"
      ],
      "metadata": {
        "colab": {
          "base_uri": "https://localhost:8080/",
          "height": 98
        },
        "id": "w6qeg6swlhhr",
        "outputId": "96890473-7b41-4936-a2bb-e02841088cec"
      },
      "execution_count": null,
      "outputs": [
        {
          "output_type": "execute_result",
          "data": {
            "text/plain": [
              "        Age Gender  Tenure  Usage Frequency  Support Calls  Payment Delay  \\\n",
              "199295  NaN    NaN     NaN              NaN            NaN            NaN   \n",
              "\n",
              "       Subscription Type Contract Length  Total Spend  Last Interaction  Churn  \n",
              "199295               NaN             NaN          NaN               NaN    NaN  "
            ],
            "text/html": [
              "\n",
              "  <div id=\"df-4f1224e1-2a8f-473a-9072-edbb6364bac9\" class=\"colab-df-container\">\n",
              "    <div>\n",
              "<style scoped>\n",
              "    .dataframe tbody tr th:only-of-type {\n",
              "        vertical-align: middle;\n",
              "    }\n",
              "\n",
              "    .dataframe tbody tr th {\n",
              "        vertical-align: top;\n",
              "    }\n",
              "\n",
              "    .dataframe thead th {\n",
              "        text-align: right;\n",
              "    }\n",
              "</style>\n",
              "<table border=\"1\" class=\"dataframe\">\n",
              "  <thead>\n",
              "    <tr style=\"text-align: right;\">\n",
              "      <th></th>\n",
              "      <th>Age</th>\n",
              "      <th>Gender</th>\n",
              "      <th>Tenure</th>\n",
              "      <th>Usage Frequency</th>\n",
              "      <th>Support Calls</th>\n",
              "      <th>Payment Delay</th>\n",
              "      <th>Subscription Type</th>\n",
              "      <th>Contract Length</th>\n",
              "      <th>Total Spend</th>\n",
              "      <th>Last Interaction</th>\n",
              "      <th>Churn</th>\n",
              "    </tr>\n",
              "  </thead>\n",
              "  <tbody>\n",
              "    <tr>\n",
              "      <th>199295</th>\n",
              "      <td>NaN</td>\n",
              "      <td>NaN</td>\n",
              "      <td>NaN</td>\n",
              "      <td>NaN</td>\n",
              "      <td>NaN</td>\n",
              "      <td>NaN</td>\n",
              "      <td>NaN</td>\n",
              "      <td>NaN</td>\n",
              "      <td>NaN</td>\n",
              "      <td>NaN</td>\n",
              "      <td>NaN</td>\n",
              "    </tr>\n",
              "  </tbody>\n",
              "</table>\n",
              "</div>\n",
              "    <div class=\"colab-df-buttons\">\n",
              "\n",
              "  <div class=\"colab-df-container\">\n",
              "    <button class=\"colab-df-convert\" onclick=\"convertToInteractive('df-4f1224e1-2a8f-473a-9072-edbb6364bac9')\"\n",
              "            title=\"Convert this dataframe to an interactive table.\"\n",
              "            style=\"display:none;\">\n",
              "\n",
              "  <svg xmlns=\"http://www.w3.org/2000/svg\" height=\"24px\" viewBox=\"0 -960 960 960\">\n",
              "    <path d=\"M120-120v-720h720v720H120Zm60-500h600v-160H180v160Zm220 220h160v-160H400v160Zm0 220h160v-160H400v160ZM180-400h160v-160H180v160Zm440 0h160v-160H620v160ZM180-180h160v-160H180v160Zm440 0h160v-160H620v160Z\"/>\n",
              "  </svg>\n",
              "    </button>\n",
              "\n",
              "  <style>\n",
              "    .colab-df-container {\n",
              "      display:flex;\n",
              "      gap: 12px;\n",
              "    }\n",
              "\n",
              "    .colab-df-convert {\n",
              "      background-color: #E8F0FE;\n",
              "      border: none;\n",
              "      border-radius: 50%;\n",
              "      cursor: pointer;\n",
              "      display: none;\n",
              "      fill: #1967D2;\n",
              "      height: 32px;\n",
              "      padding: 0 0 0 0;\n",
              "      width: 32px;\n",
              "    }\n",
              "\n",
              "    .colab-df-convert:hover {\n",
              "      background-color: #E2EBFA;\n",
              "      box-shadow: 0px 1px 2px rgba(60, 64, 67, 0.3), 0px 1px 3px 1px rgba(60, 64, 67, 0.15);\n",
              "      fill: #174EA6;\n",
              "    }\n",
              "\n",
              "    .colab-df-buttons div {\n",
              "      margin-bottom: 4px;\n",
              "    }\n",
              "\n",
              "    [theme=dark] .colab-df-convert {\n",
              "      background-color: #3B4455;\n",
              "      fill: #D2E3FC;\n",
              "    }\n",
              "\n",
              "    [theme=dark] .colab-df-convert:hover {\n",
              "      background-color: #434B5C;\n",
              "      box-shadow: 0px 1px 3px 1px rgba(0, 0, 0, 0.15);\n",
              "      filter: drop-shadow(0px 1px 2px rgba(0, 0, 0, 0.3));\n",
              "      fill: #FFFFFF;\n",
              "    }\n",
              "  </style>\n",
              "\n",
              "    <script>\n",
              "      const buttonEl =\n",
              "        document.querySelector('#df-4f1224e1-2a8f-473a-9072-edbb6364bac9 button.colab-df-convert');\n",
              "      buttonEl.style.display =\n",
              "        google.colab.kernel.accessAllowed ? 'block' : 'none';\n",
              "\n",
              "      async function convertToInteractive(key) {\n",
              "        const element = document.querySelector('#df-4f1224e1-2a8f-473a-9072-edbb6364bac9');\n",
              "        const dataTable =\n",
              "          await google.colab.kernel.invokeFunction('convertToInteractive',\n",
              "                                                    [key], {});\n",
              "        if (!dataTable) return;\n",
              "\n",
              "        const docLinkHtml = 'Like what you see? Visit the ' +\n",
              "          '<a target=\"_blank\" href=https://colab.research.google.com/notebooks/data_table.ipynb>data table notebook</a>'\n",
              "          + ' to learn more about interactive tables.';\n",
              "        element.innerHTML = '';\n",
              "        dataTable['output_type'] = 'display_data';\n",
              "        await google.colab.output.renderOutput(dataTable, element);\n",
              "        const docLink = document.createElement('div');\n",
              "        docLink.innerHTML = docLinkHtml;\n",
              "        element.appendChild(docLink);\n",
              "      }\n",
              "    </script>\n",
              "  </div>\n",
              "\n",
              "\n",
              "    </div>\n",
              "  </div>\n"
            ],
            "application/vnd.google.colaboratory.intrinsic+json": {
              "type": "dataframe",
              "repr_error": "0"
            }
          },
          "metadata": {},
          "execution_count": 6
        }
      ]
    },
    {
      "cell_type": "code",
      "source": [
        "#Eliminar fila donde hayan valores nulos\n",
        "\n",
        "df = df.drop(199295)\n",
        "df = df.reset_index(drop = True)\n",
        "df"
      ],
      "metadata": {
        "colab": {
          "base_uri": "https://localhost:8080/",
          "height": 441
        },
        "id": "p9U0ft9kmKdq",
        "outputId": "649543d5-5c4a-421c-ca83-c7692b3ae7f1"
      },
      "execution_count": null,
      "outputs": [
        {
          "output_type": "execute_result",
          "data": {
            "text/plain": [
              "         Age  Gender  Tenure  Usage Frequency  Support Calls  Payment Delay  \\\n",
              "0       30.0  Female    39.0             14.0            5.0           18.0   \n",
              "1       65.0  Female    49.0              1.0           10.0            8.0   \n",
              "2       55.0  Female    14.0              4.0            6.0           18.0   \n",
              "3       58.0    Male    38.0             21.0            7.0            7.0   \n",
              "4       23.0    Male    32.0             20.0            5.0            8.0   \n",
              "...      ...     ...     ...              ...            ...            ...   \n",
              "440827  42.0    Male    54.0             15.0            1.0            3.0   \n",
              "440828  25.0  Female     8.0             13.0            1.0           20.0   \n",
              "440829  26.0    Male    35.0             27.0            1.0            5.0   \n",
              "440830  28.0    Male    55.0             14.0            2.0            0.0   \n",
              "440831  31.0    Male    48.0             20.0            1.0           14.0   \n",
              "\n",
              "       Subscription Type Contract Length  Total Spend  Last Interaction  Churn  \n",
              "0               Standard          Annual       932.00              17.0    1.0  \n",
              "1                  Basic         Monthly       557.00               6.0    1.0  \n",
              "2                  Basic       Quarterly       185.00               3.0    1.0  \n",
              "3               Standard         Monthly       396.00              29.0    1.0  \n",
              "4                  Basic         Monthly       617.00              20.0    1.0  \n",
              "...                  ...             ...          ...               ...    ...  \n",
              "440827           Premium          Annual       716.38               8.0    0.0  \n",
              "440828           Premium          Annual       745.38               2.0    0.0  \n",
              "440829          Standard       Quarterly       977.31               9.0    0.0  \n",
              "440830          Standard       Quarterly       602.55               2.0    0.0  \n",
              "440831           Premium       Quarterly       567.77              21.0    0.0  \n",
              "\n",
              "[440832 rows x 11 columns]"
            ],
            "text/html": [
              "\n",
              "  <div id=\"df-c9623cd8-07e0-40d8-abe8-798322fb60e9\" class=\"colab-df-container\">\n",
              "    <div>\n",
              "<style scoped>\n",
              "    .dataframe tbody tr th:only-of-type {\n",
              "        vertical-align: middle;\n",
              "    }\n",
              "\n",
              "    .dataframe tbody tr th {\n",
              "        vertical-align: top;\n",
              "    }\n",
              "\n",
              "    .dataframe thead th {\n",
              "        text-align: right;\n",
              "    }\n",
              "</style>\n",
              "<table border=\"1\" class=\"dataframe\">\n",
              "  <thead>\n",
              "    <tr style=\"text-align: right;\">\n",
              "      <th></th>\n",
              "      <th>Age</th>\n",
              "      <th>Gender</th>\n",
              "      <th>Tenure</th>\n",
              "      <th>Usage Frequency</th>\n",
              "      <th>Support Calls</th>\n",
              "      <th>Payment Delay</th>\n",
              "      <th>Subscription Type</th>\n",
              "      <th>Contract Length</th>\n",
              "      <th>Total Spend</th>\n",
              "      <th>Last Interaction</th>\n",
              "      <th>Churn</th>\n",
              "    </tr>\n",
              "  </thead>\n",
              "  <tbody>\n",
              "    <tr>\n",
              "      <th>0</th>\n",
              "      <td>30.0</td>\n",
              "      <td>Female</td>\n",
              "      <td>39.0</td>\n",
              "      <td>14.0</td>\n",
              "      <td>5.0</td>\n",
              "      <td>18.0</td>\n",
              "      <td>Standard</td>\n",
              "      <td>Annual</td>\n",
              "      <td>932.00</td>\n",
              "      <td>17.0</td>\n",
              "      <td>1.0</td>\n",
              "    </tr>\n",
              "    <tr>\n",
              "      <th>1</th>\n",
              "      <td>65.0</td>\n",
              "      <td>Female</td>\n",
              "      <td>49.0</td>\n",
              "      <td>1.0</td>\n",
              "      <td>10.0</td>\n",
              "      <td>8.0</td>\n",
              "      <td>Basic</td>\n",
              "      <td>Monthly</td>\n",
              "      <td>557.00</td>\n",
              "      <td>6.0</td>\n",
              "      <td>1.0</td>\n",
              "    </tr>\n",
              "    <tr>\n",
              "      <th>2</th>\n",
              "      <td>55.0</td>\n",
              "      <td>Female</td>\n",
              "      <td>14.0</td>\n",
              "      <td>4.0</td>\n",
              "      <td>6.0</td>\n",
              "      <td>18.0</td>\n",
              "      <td>Basic</td>\n",
              "      <td>Quarterly</td>\n",
              "      <td>185.00</td>\n",
              "      <td>3.0</td>\n",
              "      <td>1.0</td>\n",
              "    </tr>\n",
              "    <tr>\n",
              "      <th>3</th>\n",
              "      <td>58.0</td>\n",
              "      <td>Male</td>\n",
              "      <td>38.0</td>\n",
              "      <td>21.0</td>\n",
              "      <td>7.0</td>\n",
              "      <td>7.0</td>\n",
              "      <td>Standard</td>\n",
              "      <td>Monthly</td>\n",
              "      <td>396.00</td>\n",
              "      <td>29.0</td>\n",
              "      <td>1.0</td>\n",
              "    </tr>\n",
              "    <tr>\n",
              "      <th>4</th>\n",
              "      <td>23.0</td>\n",
              "      <td>Male</td>\n",
              "      <td>32.0</td>\n",
              "      <td>20.0</td>\n",
              "      <td>5.0</td>\n",
              "      <td>8.0</td>\n",
              "      <td>Basic</td>\n",
              "      <td>Monthly</td>\n",
              "      <td>617.00</td>\n",
              "      <td>20.0</td>\n",
              "      <td>1.0</td>\n",
              "    </tr>\n",
              "    <tr>\n",
              "      <th>...</th>\n",
              "      <td>...</td>\n",
              "      <td>...</td>\n",
              "      <td>...</td>\n",
              "      <td>...</td>\n",
              "      <td>...</td>\n",
              "      <td>...</td>\n",
              "      <td>...</td>\n",
              "      <td>...</td>\n",
              "      <td>...</td>\n",
              "      <td>...</td>\n",
              "      <td>...</td>\n",
              "    </tr>\n",
              "    <tr>\n",
              "      <th>440827</th>\n",
              "      <td>42.0</td>\n",
              "      <td>Male</td>\n",
              "      <td>54.0</td>\n",
              "      <td>15.0</td>\n",
              "      <td>1.0</td>\n",
              "      <td>3.0</td>\n",
              "      <td>Premium</td>\n",
              "      <td>Annual</td>\n",
              "      <td>716.38</td>\n",
              "      <td>8.0</td>\n",
              "      <td>0.0</td>\n",
              "    </tr>\n",
              "    <tr>\n",
              "      <th>440828</th>\n",
              "      <td>25.0</td>\n",
              "      <td>Female</td>\n",
              "      <td>8.0</td>\n",
              "      <td>13.0</td>\n",
              "      <td>1.0</td>\n",
              "      <td>20.0</td>\n",
              "      <td>Premium</td>\n",
              "      <td>Annual</td>\n",
              "      <td>745.38</td>\n",
              "      <td>2.0</td>\n",
              "      <td>0.0</td>\n",
              "    </tr>\n",
              "    <tr>\n",
              "      <th>440829</th>\n",
              "      <td>26.0</td>\n",
              "      <td>Male</td>\n",
              "      <td>35.0</td>\n",
              "      <td>27.0</td>\n",
              "      <td>1.0</td>\n",
              "      <td>5.0</td>\n",
              "      <td>Standard</td>\n",
              "      <td>Quarterly</td>\n",
              "      <td>977.31</td>\n",
              "      <td>9.0</td>\n",
              "      <td>0.0</td>\n",
              "    </tr>\n",
              "    <tr>\n",
              "      <th>440830</th>\n",
              "      <td>28.0</td>\n",
              "      <td>Male</td>\n",
              "      <td>55.0</td>\n",
              "      <td>14.0</td>\n",
              "      <td>2.0</td>\n",
              "      <td>0.0</td>\n",
              "      <td>Standard</td>\n",
              "      <td>Quarterly</td>\n",
              "      <td>602.55</td>\n",
              "      <td>2.0</td>\n",
              "      <td>0.0</td>\n",
              "    </tr>\n",
              "    <tr>\n",
              "      <th>440831</th>\n",
              "      <td>31.0</td>\n",
              "      <td>Male</td>\n",
              "      <td>48.0</td>\n",
              "      <td>20.0</td>\n",
              "      <td>1.0</td>\n",
              "      <td>14.0</td>\n",
              "      <td>Premium</td>\n",
              "      <td>Quarterly</td>\n",
              "      <td>567.77</td>\n",
              "      <td>21.0</td>\n",
              "      <td>0.0</td>\n",
              "    </tr>\n",
              "  </tbody>\n",
              "</table>\n",
              "<p>440832 rows × 11 columns</p>\n",
              "</div>\n",
              "    <div class=\"colab-df-buttons\">\n",
              "\n",
              "  <div class=\"colab-df-container\">\n",
              "    <button class=\"colab-df-convert\" onclick=\"convertToInteractive('df-c9623cd8-07e0-40d8-abe8-798322fb60e9')\"\n",
              "            title=\"Convert this dataframe to an interactive table.\"\n",
              "            style=\"display:none;\">\n",
              "\n",
              "  <svg xmlns=\"http://www.w3.org/2000/svg\" height=\"24px\" viewBox=\"0 -960 960 960\">\n",
              "    <path d=\"M120-120v-720h720v720H120Zm60-500h600v-160H180v160Zm220 220h160v-160H400v160Zm0 220h160v-160H400v160ZM180-400h160v-160H180v160Zm440 0h160v-160H620v160ZM180-180h160v-160H180v160Zm440 0h160v-160H620v160Z\"/>\n",
              "  </svg>\n",
              "    </button>\n",
              "\n",
              "  <style>\n",
              "    .colab-df-container {\n",
              "      display:flex;\n",
              "      gap: 12px;\n",
              "    }\n",
              "\n",
              "    .colab-df-convert {\n",
              "      background-color: #E8F0FE;\n",
              "      border: none;\n",
              "      border-radius: 50%;\n",
              "      cursor: pointer;\n",
              "      display: none;\n",
              "      fill: #1967D2;\n",
              "      height: 32px;\n",
              "      padding: 0 0 0 0;\n",
              "      width: 32px;\n",
              "    }\n",
              "\n",
              "    .colab-df-convert:hover {\n",
              "      background-color: #E2EBFA;\n",
              "      box-shadow: 0px 1px 2px rgba(60, 64, 67, 0.3), 0px 1px 3px 1px rgba(60, 64, 67, 0.15);\n",
              "      fill: #174EA6;\n",
              "    }\n",
              "\n",
              "    .colab-df-buttons div {\n",
              "      margin-bottom: 4px;\n",
              "    }\n",
              "\n",
              "    [theme=dark] .colab-df-convert {\n",
              "      background-color: #3B4455;\n",
              "      fill: #D2E3FC;\n",
              "    }\n",
              "\n",
              "    [theme=dark] .colab-df-convert:hover {\n",
              "      background-color: #434B5C;\n",
              "      box-shadow: 0px 1px 3px 1px rgba(0, 0, 0, 0.15);\n",
              "      filter: drop-shadow(0px 1px 2px rgba(0, 0, 0, 0.3));\n",
              "      fill: #FFFFFF;\n",
              "    }\n",
              "  </style>\n",
              "\n",
              "    <script>\n",
              "      const buttonEl =\n",
              "        document.querySelector('#df-c9623cd8-07e0-40d8-abe8-798322fb60e9 button.colab-df-convert');\n",
              "      buttonEl.style.display =\n",
              "        google.colab.kernel.accessAllowed ? 'block' : 'none';\n",
              "\n",
              "      async function convertToInteractive(key) {\n",
              "        const element = document.querySelector('#df-c9623cd8-07e0-40d8-abe8-798322fb60e9');\n",
              "        const dataTable =\n",
              "          await google.colab.kernel.invokeFunction('convertToInteractive',\n",
              "                                                    [key], {});\n",
              "        if (!dataTable) return;\n",
              "\n",
              "        const docLinkHtml = 'Like what you see? Visit the ' +\n",
              "          '<a target=\"_blank\" href=https://colab.research.google.com/notebooks/data_table.ipynb>data table notebook</a>'\n",
              "          + ' to learn more about interactive tables.';\n",
              "        element.innerHTML = '';\n",
              "        dataTable['output_type'] = 'display_data';\n",
              "        await google.colab.output.renderOutput(dataTable, element);\n",
              "        const docLink = document.createElement('div');\n",
              "        docLink.innerHTML = docLinkHtml;\n",
              "        element.appendChild(docLink);\n",
              "      }\n",
              "    </script>\n",
              "  </div>\n",
              "\n",
              "\n",
              "<div id=\"df-4b10cfc0-1d3f-461a-9dd6-9bbec90e7df6\">\n",
              "  <button class=\"colab-df-quickchart\" onclick=\"quickchart('df-4b10cfc0-1d3f-461a-9dd6-9bbec90e7df6')\"\n",
              "            title=\"Suggest charts\"\n",
              "            style=\"display:none;\">\n",
              "\n",
              "<svg xmlns=\"http://www.w3.org/2000/svg\" height=\"24px\"viewBox=\"0 0 24 24\"\n",
              "     width=\"24px\">\n",
              "    <g>\n",
              "        <path d=\"M19 3H5c-1.1 0-2 .9-2 2v14c0 1.1.9 2 2 2h14c1.1 0 2-.9 2-2V5c0-1.1-.9-2-2-2zM9 17H7v-7h2v7zm4 0h-2V7h2v10zm4 0h-2v-4h2v4z\"/>\n",
              "    </g>\n",
              "</svg>\n",
              "  </button>\n",
              "\n",
              "<style>\n",
              "  .colab-df-quickchart {\n",
              "      --bg-color: #E8F0FE;\n",
              "      --fill-color: #1967D2;\n",
              "      --hover-bg-color: #E2EBFA;\n",
              "      --hover-fill-color: #174EA6;\n",
              "      --disabled-fill-color: #AAA;\n",
              "      --disabled-bg-color: #DDD;\n",
              "  }\n",
              "\n",
              "  [theme=dark] .colab-df-quickchart {\n",
              "      --bg-color: #3B4455;\n",
              "      --fill-color: #D2E3FC;\n",
              "      --hover-bg-color: #434B5C;\n",
              "      --hover-fill-color: #FFFFFF;\n",
              "      --disabled-bg-color: #3B4455;\n",
              "      --disabled-fill-color: #666;\n",
              "  }\n",
              "\n",
              "  .colab-df-quickchart {\n",
              "    background-color: var(--bg-color);\n",
              "    border: none;\n",
              "    border-radius: 50%;\n",
              "    cursor: pointer;\n",
              "    display: none;\n",
              "    fill: var(--fill-color);\n",
              "    height: 32px;\n",
              "    padding: 0;\n",
              "    width: 32px;\n",
              "  }\n",
              "\n",
              "  .colab-df-quickchart:hover {\n",
              "    background-color: var(--hover-bg-color);\n",
              "    box-shadow: 0 1px 2px rgba(60, 64, 67, 0.3), 0 1px 3px 1px rgba(60, 64, 67, 0.15);\n",
              "    fill: var(--button-hover-fill-color);\n",
              "  }\n",
              "\n",
              "  .colab-df-quickchart-complete:disabled,\n",
              "  .colab-df-quickchart-complete:disabled:hover {\n",
              "    background-color: var(--disabled-bg-color);\n",
              "    fill: var(--disabled-fill-color);\n",
              "    box-shadow: none;\n",
              "  }\n",
              "\n",
              "  .colab-df-spinner {\n",
              "    border: 2px solid var(--fill-color);\n",
              "    border-color: transparent;\n",
              "    border-bottom-color: var(--fill-color);\n",
              "    animation:\n",
              "      spin 1s steps(1) infinite;\n",
              "  }\n",
              "\n",
              "  @keyframes spin {\n",
              "    0% {\n",
              "      border-color: transparent;\n",
              "      border-bottom-color: var(--fill-color);\n",
              "      border-left-color: var(--fill-color);\n",
              "    }\n",
              "    20% {\n",
              "      border-color: transparent;\n",
              "      border-left-color: var(--fill-color);\n",
              "      border-top-color: var(--fill-color);\n",
              "    }\n",
              "    30% {\n",
              "      border-color: transparent;\n",
              "      border-left-color: var(--fill-color);\n",
              "      border-top-color: var(--fill-color);\n",
              "      border-right-color: var(--fill-color);\n",
              "    }\n",
              "    40% {\n",
              "      border-color: transparent;\n",
              "      border-right-color: var(--fill-color);\n",
              "      border-top-color: var(--fill-color);\n",
              "    }\n",
              "    60% {\n",
              "      border-color: transparent;\n",
              "      border-right-color: var(--fill-color);\n",
              "    }\n",
              "    80% {\n",
              "      border-color: transparent;\n",
              "      border-right-color: var(--fill-color);\n",
              "      border-bottom-color: var(--fill-color);\n",
              "    }\n",
              "    90% {\n",
              "      border-color: transparent;\n",
              "      border-bottom-color: var(--fill-color);\n",
              "    }\n",
              "  }\n",
              "</style>\n",
              "\n",
              "  <script>\n",
              "    async function quickchart(key) {\n",
              "      const quickchartButtonEl =\n",
              "        document.querySelector('#' + key + ' button');\n",
              "      quickchartButtonEl.disabled = true;  // To prevent multiple clicks.\n",
              "      quickchartButtonEl.classList.add('colab-df-spinner');\n",
              "      try {\n",
              "        const charts = await google.colab.kernel.invokeFunction(\n",
              "            'suggestCharts', [key], {});\n",
              "      } catch (error) {\n",
              "        console.error('Error during call to suggestCharts:', error);\n",
              "      }\n",
              "      quickchartButtonEl.classList.remove('colab-df-spinner');\n",
              "      quickchartButtonEl.classList.add('colab-df-quickchart-complete');\n",
              "    }\n",
              "    (() => {\n",
              "      let quickchartButtonEl =\n",
              "        document.querySelector('#df-4b10cfc0-1d3f-461a-9dd6-9bbec90e7df6 button');\n",
              "      quickchartButtonEl.style.display =\n",
              "        google.colab.kernel.accessAllowed ? 'block' : 'none';\n",
              "    })();\n",
              "  </script>\n",
              "</div>\n",
              "\n",
              "  <div id=\"id_27d307a5-a756-4f24-9891-a70b9b3c4f79\">\n",
              "    <style>\n",
              "      .colab-df-generate {\n",
              "        background-color: #E8F0FE;\n",
              "        border: none;\n",
              "        border-radius: 50%;\n",
              "        cursor: pointer;\n",
              "        display: none;\n",
              "        fill: #1967D2;\n",
              "        height: 32px;\n",
              "        padding: 0 0 0 0;\n",
              "        width: 32px;\n",
              "      }\n",
              "\n",
              "      .colab-df-generate:hover {\n",
              "        background-color: #E2EBFA;\n",
              "        box-shadow: 0px 1px 2px rgba(60, 64, 67, 0.3), 0px 1px 3px 1px rgba(60, 64, 67, 0.15);\n",
              "        fill: #174EA6;\n",
              "      }\n",
              "\n",
              "      [theme=dark] .colab-df-generate {\n",
              "        background-color: #3B4455;\n",
              "        fill: #D2E3FC;\n",
              "      }\n",
              "\n",
              "      [theme=dark] .colab-df-generate:hover {\n",
              "        background-color: #434B5C;\n",
              "        box-shadow: 0px 1px 3px 1px rgba(0, 0, 0, 0.15);\n",
              "        filter: drop-shadow(0px 1px 2px rgba(0, 0, 0, 0.3));\n",
              "        fill: #FFFFFF;\n",
              "      }\n",
              "    </style>\n",
              "    <button class=\"colab-df-generate\" onclick=\"generateWithVariable('df')\"\n",
              "            title=\"Generate code using this dataframe.\"\n",
              "            style=\"display:none;\">\n",
              "\n",
              "  <svg xmlns=\"http://www.w3.org/2000/svg\" height=\"24px\"viewBox=\"0 0 24 24\"\n",
              "       width=\"24px\">\n",
              "    <path d=\"M7,19H8.4L18.45,9,17,7.55,7,17.6ZM5,21V16.75L18.45,3.32a2,2,0,0,1,2.83,0l1.4,1.43a1.91,1.91,0,0,1,.58,1.4,1.91,1.91,0,0,1-.58,1.4L9.25,21ZM18.45,9,17,7.55Zm-12,3A5.31,5.31,0,0,0,4.9,8.1,5.31,5.31,0,0,0,1,6.5,5.31,5.31,0,0,0,4.9,4.9,5.31,5.31,0,0,0,6.5,1,5.31,5.31,0,0,0,8.1,4.9,5.31,5.31,0,0,0,12,6.5,5.46,5.46,0,0,0,6.5,12Z\"/>\n",
              "  </svg>\n",
              "    </button>\n",
              "    <script>\n",
              "      (() => {\n",
              "      const buttonEl =\n",
              "        document.querySelector('#id_27d307a5-a756-4f24-9891-a70b9b3c4f79 button.colab-df-generate');\n",
              "      buttonEl.style.display =\n",
              "        google.colab.kernel.accessAllowed ? 'block' : 'none';\n",
              "\n",
              "      buttonEl.onclick = () => {\n",
              "        google.colab.notebook.generateWithVariable('df');\n",
              "      }\n",
              "      })();\n",
              "    </script>\n",
              "  </div>\n",
              "\n",
              "    </div>\n",
              "  </div>\n"
            ],
            "application/vnd.google.colaboratory.intrinsic+json": {
              "type": "dataframe",
              "variable_name": "df"
            }
          },
          "metadata": {},
          "execution_count": 7
        }
      ]
    },
    {
      "cell_type": "code",
      "source": [
        "#Verificar que ya no hayan valores nulos\n",
        "\n",
        "df.isna().sum()"
      ],
      "metadata": {
        "colab": {
          "base_uri": "https://localhost:8080/",
          "height": 429
        },
        "id": "PoNhprJHmMA-",
        "outputId": "d19c7239-9dd0-49c5-fc42-52ba3845b85f"
      },
      "execution_count": null,
      "outputs": [
        {
          "output_type": "execute_result",
          "data": {
            "text/plain": [
              "Age                  0\n",
              "Gender               0\n",
              "Tenure               0\n",
              "Usage Frequency      0\n",
              "Support Calls        0\n",
              "Payment Delay        0\n",
              "Subscription Type    0\n",
              "Contract Length      0\n",
              "Total Spend          0\n",
              "Last Interaction     0\n",
              "Churn                0\n",
              "dtype: int64"
            ],
            "text/html": [
              "<div>\n",
              "<style scoped>\n",
              "    .dataframe tbody tr th:only-of-type {\n",
              "        vertical-align: middle;\n",
              "    }\n",
              "\n",
              "    .dataframe tbody tr th {\n",
              "        vertical-align: top;\n",
              "    }\n",
              "\n",
              "    .dataframe thead th {\n",
              "        text-align: right;\n",
              "    }\n",
              "</style>\n",
              "<table border=\"1\" class=\"dataframe\">\n",
              "  <thead>\n",
              "    <tr style=\"text-align: right;\">\n",
              "      <th></th>\n",
              "      <th>0</th>\n",
              "    </tr>\n",
              "  </thead>\n",
              "  <tbody>\n",
              "    <tr>\n",
              "      <th>Age</th>\n",
              "      <td>0</td>\n",
              "    </tr>\n",
              "    <tr>\n",
              "      <th>Gender</th>\n",
              "      <td>0</td>\n",
              "    </tr>\n",
              "    <tr>\n",
              "      <th>Tenure</th>\n",
              "      <td>0</td>\n",
              "    </tr>\n",
              "    <tr>\n",
              "      <th>Usage Frequency</th>\n",
              "      <td>0</td>\n",
              "    </tr>\n",
              "    <tr>\n",
              "      <th>Support Calls</th>\n",
              "      <td>0</td>\n",
              "    </tr>\n",
              "    <tr>\n",
              "      <th>Payment Delay</th>\n",
              "      <td>0</td>\n",
              "    </tr>\n",
              "    <tr>\n",
              "      <th>Subscription Type</th>\n",
              "      <td>0</td>\n",
              "    </tr>\n",
              "    <tr>\n",
              "      <th>Contract Length</th>\n",
              "      <td>0</td>\n",
              "    </tr>\n",
              "    <tr>\n",
              "      <th>Total Spend</th>\n",
              "      <td>0</td>\n",
              "    </tr>\n",
              "    <tr>\n",
              "      <th>Last Interaction</th>\n",
              "      <td>0</td>\n",
              "    </tr>\n",
              "    <tr>\n",
              "      <th>Churn</th>\n",
              "      <td>0</td>\n",
              "    </tr>\n",
              "  </tbody>\n",
              "</table>\n",
              "</div><br><label><b>dtype:</b> int64</label>"
            ]
          },
          "metadata": {},
          "execution_count": 8
        }
      ]
    },
    {
      "cell_type": "code",
      "source": [
        "#Churn vs gender\n",
        "\n",
        "\n",
        "gender_churn = pd.crosstab(df['Gender'], df['Churn'], normalize='index') * 100\n",
        "\n",
        "\n",
        "gender_churn = gender_churn[[1, 0]]\n",
        "\n",
        "\n",
        "gender_churn.plot(kind='bar', stacked=True, color=['green', 'grey'])\n",
        "plt.title(\"Churn Rate by Gender (%)\")\n",
        "plt.xlabel(\"Gender\")\n",
        "plt.ylabel(\"Percentage\")\n",
        "plt.legend([\"Churn (1)\", \"No Churn (0)\"], loc=\"upper right\")\n",
        "plt.show()\n"
      ],
      "metadata": {
        "colab": {
          "base_uri": "https://localhost:8080/",
          "height": 508
        },
        "id": "XTzsSmrouumc",
        "outputId": "ecc922f6-a0ec-4e98-9591-ba617f12eb77"
      },
      "execution_count": null,
      "outputs": [
        {
          "output_type": "display_data",
          "data": {
            "text/plain": [
              "<Figure size 640x480 with 1 Axes>"
            ],
            "image/png": "[encoded data removed]"
          },
          "metadata": {}
        }
      ]
    },
    {
      "cell_type": "code",
      "source": [
        "#Churn vs Tenure\n",
        "\n",
        "# 1. Definir los bins y las etiquetas\n",
        "tenure_bins = [0, 10, 20, 30, 40, 50, 60, float('inf')]\n",
        "tenure_labels = ['0-9', '10-19', '20-29', '30-39', '40-49', '50-59', '60+']\n",
        "\n",
        "# 2. Crear la columna 'TenureGroup' a partir de los bins\n",
        "df['TenureGroup'] = pd.cut(df['Tenure'], bins=tenure_bins, labels=tenure_labels, right=False)\n",
        "\n",
        "# 3. Calcular la tasa de churn promedio por grupo de Tenure\n",
        "tenure_churn_rate = df.groupby('TenureGroup')['Churn'].mean()\n",
        "\n",
        "# 4. Graficar un barplot con la tasa de churn en cada grupo\n",
        "plt.figure(figsize=(10, 6))\n",
        "sns.barplot(x=tenure_churn_rate.index, y=tenure_churn_rate.values, palette='pastel')\n",
        "plt.xlabel('Tenure (meses)')\n",
        "plt.ylabel('Churn Rate')\n",
        "plt.title('Churn Rate by Tenure Group')\n",
        "plt.ylim(0, 1)  # Aseguramos que el eje Y vaya de 0 a 1\n",
        "plt.show()\n"
      ],
      "metadata": {
        "colab": {
          "base_uri": "https://localhost:8080/",
          "height": 564
        },
        "id": "X2pVH2gQiDmO",
        "outputId": "8cff9fe5-3bc1-4c67-c082-c46cb6044d6e"
      },
      "execution_count": null,
      "outputs": [
        {
          "output_type": "display_data",
          "data": {
            "text/plain": [
              "<Figure size 1000x600 with 1 Axes>"
            ],
            "image/png": "[encoded data removed]"
          },
          "metadata": {}
        }
      ]
    },
    {
      "cell_type": "code",
      "source": [
        "#Churn vs Age Group\n",
        "\n",
        "\n",
        "age_bins = [0, 10, 20, 30, 40, 50, 60, float('inf')]\n",
        "age_labels = ['0-9', '10-19', '20-29', '30-39', '40-49', '50-59', '60+']\n",
        "df['AgeGroup'] = pd.cut(df['Age'], bins=age_bins, labels=age_labels, right=False)\n",
        "\n",
        "\n",
        "age_churn_rate = df.groupby('AgeGroup')['Churn'].mean()\n",
        "\n",
        "\n",
        "plt.figure(figsize=(10, 6))\n",
        "sns.barplot(x=age_churn_rate.index, y=age_churn_rate.values, palette='pastel')\n",
        "plt.xlabel('Age Group')\n",
        "plt.ylabel('Churn Rate')\n",
        "plt.title('Churn Rate by Age Group')\n",
        "plt.xticks(rotation=45)\n",
        "plt.show()"
      ],
      "metadata": {
        "colab": {
          "base_uri": "https://localhost:8080/",
          "height": 588
        },
        "id": "YVVR0SacvpGU",
        "outputId": "0cc14d4b-18f6-482e-8ab8-eb566eb39f6e"
      },
      "execution_count": null,
      "outputs": [
        {
          "output_type": "display_data",
          "data": {
            "text/plain": [
              "<Figure size 1000x600 with 1 Axes>"
            ],
            "image/png": "[encoded data removed]"
          },
          "metadata": {}
        }
      ]
    },
    {
      "cell_type": "code",
      "source": [
        "#Churn vs Usage Frequency\n",
        "\n",
        "usage_bins = [0, 10, 20, 30, 40, 50, float('inf')]\n",
        "usage_labels = ['0-9', '10-19', '20-29', '30-39', '40-49', '50+']\n",
        "df['UsageGroup'] = pd.cut(df['Usage Frequency'], bins=usage_bins, labels=usage_labels, right=False)\n",
        "usage_churn_rate = df.groupby('UsageGroup')['Churn'].mean()\n",
        "plt.figure(figsize=(10, 6))\n",
        "sns.barplot(x=usage_churn_rate.index, y=usage_churn_rate.values, palette='pastel')\n",
        "plt.xlabel('Usage Frequency Group')\n",
        "plt.ylabel('Churn Rate')\n",
        "plt.title('Churn Rate by Usage Frequency Group')\n",
        "plt.xticks(rotation=45)\n",
        "plt.show()\n"
      ],
      "metadata": {
        "colab": {
          "base_uri": "https://localhost:8080/",
          "height": 588
        },
        "id": "T57SxEGIweEE",
        "outputId": "2d518d44-cb16-4cea-c0f3-5ccd72c4b333"
      },
      "execution_count": null,
      "outputs": [
        {
          "output_type": "display_data",
          "data": {
            "text/plain": [
              "<Figure size 1000x600 with 1 Axes>"
            ],
            "image/png": "[encoded data removed]"
          },
          "metadata": {}
        }
      ]
    },
    {
      "cell_type": "code",
      "source": [
        "#Churn vs Support Calls\n",
        "\n",
        "\n",
        "support_bins = [0, 1, 2, 3, 4, 5, float('inf')]\n",
        "support_labels = ['0', '1', '2', '3', '4', '5+']\n",
        "df['SupportGroup'] = pd.cut(df['Support Calls'], bins=support_bins, labels=support_labels, right=False)\n",
        "support_churn_rate = df.groupby('SupportGroup')['Churn'].mean()\n",
        "plt.figure(figsize=(10, 6))\n",
        "sns.barplot(x=support_churn_rate.index, y=support_churn_rate.values, palette='pastel')\n",
        "plt.xlabel('Support Calls Group')\n",
        "plt.ylabel('Churn Rate')\n",
        "plt.title('Churn Rate by Support Calls Group')\n",
        "plt.show()"
      ],
      "metadata": {
        "colab": {
          "base_uri": "https://localhost:8080/",
          "height": 564
        },
        "id": "ArXaQm7pw3V4",
        "outputId": "b1bf1ccc-51e7-46b9-9a99-008f3537c33f"
      },
      "execution_count": null,
      "outputs": [
        {
          "output_type": "display_data",
          "data": {
            "text/plain": [
              "<Figure size 1000x600 with 1 Axes>"
            ],
            "image/png": "[encoded data removed]"
          },
          "metadata": {}
        }
      ]
    },
    {
      "cell_type": "code",
      "source": [
        "#Churn vs Payment Delay\n",
        "\n",
        "\n",
        "delay_bins = [0, 11, 21, 31, float('inf')]\n",
        "delay_labels = ['0-10', '11-20', '21-30', '31+']\n",
        "df['PaymentDelayGroup'] = pd.cut(df['Payment Delay'], bins=delay_bins, labels=delay_labels, right=False)\n",
        "\n",
        "\n",
        "delay_churn_rate = df.groupby('PaymentDelayGroup')['Churn'].mean()\n",
        "\n",
        "\n",
        "plt.figure(figsize=(10, 6))\n",
        "sns.barplot(x=delay_churn_rate.index, y=delay_churn_rate.values, palette='pastel')\n",
        "plt.xlabel('Payment Delay Group (months)')\n",
        "plt.ylabel('Churn Rate')\n",
        "plt.title('Churn Rate by Payment Delay Group')\n",
        "plt.show()\n"
      ],
      "metadata": {
        "colab": {
          "base_uri": "https://localhost:8080/",
          "height": 564
        },
        "id": "-amOh1MhxZXr",
        "outputId": "17a2d8a7-e84a-40ce-c650-048fe9a21d45"
      },
      "execution_count": null,
      "outputs": [
        {
          "output_type": "display_data",
          "data": {
            "text/plain": [
              "<Figure size 1000x600 with 1 Axes>"
            ],
            "image/png": "[encoded data removed]"
          },
          "metadata": {}
        }
      ]
    },
    {
      "cell_type": "code",
      "source": [
        "#Churn vs Suscription Type\n",
        "\n",
        "sub_churn_rate = df.groupby('Subscription Type')['Churn'].mean()\n",
        "plt.figure(figsize=(10, 6))\n",
        "sns.barplot(x=sub_churn_rate.index, y=sub_churn_rate.values, palette='pastel')\n",
        "plt.xlabel('Subscription Type')\n",
        "plt.ylabel('Churn Rate')\n",
        "plt.title('Churn Rate by Subscription Type')\n",
        "plt.show()"
      ],
      "metadata": {
        "colab": {
          "base_uri": "https://localhost:8080/",
          "height": 564
        },
        "id": "UPer3W1wx_Yl",
        "outputId": "0a83fbf9-46cb-426e-f80e-2fdf94d29930"
      },
      "execution_count": null,
      "outputs": [
        {
          "output_type": "display_data",
          "data": {
            "text/plain": [
              "<Figure size 1000x600 with 1 Axes>"
            ],
            "image/png": "[encoded data removed]"
          },
          "metadata": {}
        }
      ]
    },
    {
      "cell_type": "code",
      "source": [
        "#Churn vs Contract Lenght\n",
        "\n",
        "# Definimos el orden deseado y un diccionario para transformar los valores numéricos a etiquetas\n",
        "order = [1, 3, 12]  # Monthly=1, Quarterly=3, Annual=12\n",
        "labels_map = {1: 'Monthly', 3: 'Quarterly', 12: 'Annual'}\n",
        "\n",
        "# Calculamos la tasa de churn agrupando por 'Contract Length' y reordenando según 'order'\n",
        "contract_churn_rate = df.groupby('Contract Length')['Churn'].mean().reindex(order)\n",
        "\n",
        "plt.figure(figsize=(10, 6))\n",
        "sns.barplot(x=[labels_map[val] for val in contract_churn_rate.index],\n",
        "            y=contract_churn_rate.values, palette='pastel')\n",
        "plt.xlabel('Contract Length')\n",
        "plt.ylabel('Churn Rate')\n",
        "plt.title('Churn Rate by Contract Length')\n",
        "plt.show()"
      ],
      "metadata": {
        "colab": {
          "base_uri": "https://localhost:8080/",
          "height": 564
        },
        "id": "-7G74C-ZyKA-",
        "outputId": "4a523c64-c6b9-4679-a401-69f8bed28992"
      },
      "execution_count": null,
      "outputs": [
        {
          "output_type": "display_data",
          "data": {
            "text/plain": [
              "<Figure size 1000x600 with 1 Axes>"
            ],
            "image/png": "[encoded data removed]"
          },
          "metadata": {}
        }
      ]
    },
    {
      "cell_type": "code",
      "source": [
        "\n",
        "#Churn vs Total Spend\n",
        "\n",
        "spend_bins = [0, 201, 401, 601, 801, 1001]\n",
        "spend_labels = ['0-200', '201-400', '401-600', '601-800', '801-1000']\n",
        "\n",
        "\n",
        "df['TotalSpendGroup'] = pd.cut(df['Total Spend'], bins=spend_bins, labels=spend_labels, right=False)\n",
        "\n",
        "\n",
        "spend_churn_rate = df.groupby('TotalSpendGroup')['Churn'].mean()\n",
        "\n",
        "\n",
        "plt.figure(figsize=(10, 6))\n",
        "sns.barplot(x=spend_churn_rate.index, y=spend_churn_rate.values, palette='pastel')\n",
        "plt.xlabel('Total Spend Group')\n",
        "plt.ylabel('Churn Rate')\n",
        "plt.title('Churn Rate by Total Spend Group')\n",
        "plt.xticks(rotation=45)\n",
        "plt.show()\n"
      ],
      "metadata": {
        "colab": {
          "base_uri": "https://localhost:8080/",
          "height": 607
        },
        "id": "uVEDUZcKyQKD",
        "outputId": "7bd24df7-fc8a-4b4e-c3cf-6ea42a30c7ea"
      },
      "execution_count": null,
      "outputs": [
        {
          "output_type": "display_data",
          "data": {
            "text/plain": [
              "<Figure size 1000x600 with 1 Axes>"
            ],
            "image/png": "[encoded data removed]"
          },
          "metadata": {}
        }
      ]
    },
    {
      "cell_type": "code",
      "source": [
        "#Churn vs Last Interaction\n",
        "\n",
        "interaction_bins = [0, 11, 21, 31]\n",
        "interaction_labels = ['0-10', '11-20', '21-30']\n",
        "df['LastInteractionGroup'] = pd.cut(df['Last Interaction'], bins=interaction_bins, labels=interaction_labels, right=False)\n",
        "\n",
        "\n",
        "interaction_churn_rate = df.groupby('LastInteractionGroup')['Churn'].mean()\n",
        "\n",
        "\n",
        "plt.figure(figsize=(10, 6))\n",
        "sns.barplot(x=interaction_churn_rate.index, y=interaction_churn_rate.values, palette='pastel')\n",
        "plt.xlabel('Last Interaction Group (months)')\n",
        "plt.ylabel('Churn Rate')\n",
        "plt.title('Churn Rate by Last Interaction Group')\n",
        "plt.show()\n"
      ],
      "metadata": {
        "colab": {
          "base_uri": "https://localhost:8080/",
          "height": 564
        },
        "id": "D-TNJPXDytM1",
        "outputId": "1eb192ef-4b88-4d57-f967-6414710987bc"
      },
      "execution_count": null,
      "outputs": [
        {
          "output_type": "display_data",
          "data": {
            "text/plain": [
              "<Figure size 1000x600 with 1 Axes>"
            ],
            "image/png": "[encoded data removed]"
          },
          "metadata": {}
        }
      ]
    },
    {
      "cell_type": "code",
      "source": [
        "# Aplicar MinMaxScaling a la variable ''Age''\n",
        "\n",
        "scaler = MinMaxScaler()\n",
        "df['Age_scaled'] = scaler.fit_transform(df[['Age']])\n",
        "\n",
        "\n",
        "print(df[['Age', 'Age_scaled']].head())"
      ],
      "metadata": {
        "colab": {
          "base_uri": "https://localhost:8080/"
        },
        "id": "Yp9Xe9JInVfJ",
        "outputId": "75f46644-6183-4ebe-9074-77f4aa51aa19"
      },
      "execution_count": null,
      "outputs": [
        {
          "output_type": "stream",
          "name": "stdout",
          "text": [
            "    Age  Age_scaled\n",
            "0  30.0    0.255319\n",
            "1  65.0    1.000000\n",
            "2  55.0    0.787234\n",
            "3  58.0    0.851064\n",
            "4  23.0    0.106383\n"
          ]
        }
      ]
    },
    {
      "cell_type": "code",
      "source": [
        "# Definir Female = 0 y Male = 1\n",
        "\n",
        "gender_map = {'Female': 0, 'Male': 1}\n",
        "df['Gender_scaled'] = df['Gender'].map(gender_map)\n",
        "\n",
        "df['Gender_scaled'].fillna(df['Gender_scaled'].mode()[0], inplace=True)\n"
      ],
      "metadata": {
        "id": "DUipLpUBmP0f"
      },
      "execution_count": null,
      "outputs": []
    },
    {
      "cell_type": "code",
      "source": [
        "print(df['Gender'])"
      ],
      "metadata": {
        "colab": {
          "base_uri": "https://localhost:8080/"
        },
        "id": "pKp8xn8CnTaU",
        "outputId": "576c2b4f-53c3-4297-b67d-add1be408f4c"
      },
      "execution_count": null,
      "outputs": [
        {
          "output_type": "stream",
          "name": "stdout",
          "text": [
            "0         Female\n",
            "1         Female\n",
            "2         Female\n",
            "3           Male\n",
            "4           Male\n",
            "           ...  \n",
            "440827      Male\n",
            "440828    Female\n",
            "440829      Male\n",
            "440830      Male\n",
            "440831      Male\n",
            "Name: Gender, Length: 440832, dtype: object\n"
          ]
        }
      ]
    },
    {
      "cell_type": "code",
      "source": [
        "# Aplicar MinMaxScaling a la variable ''Tenure''\n",
        "\n",
        "scaler = MinMaxScaler()\n",
        "df['Tenure_scaled'] = scaler.fit_transform(df[['Tenure']])\n",
        "\n",
        "\n",
        "print(df[['Tenure', 'Tenure_scaled']].head())"
      ],
      "metadata": {
        "colab": {
          "base_uri": "https://localhost:8080/"
        },
        "id": "eHm2V91Fn8cT",
        "outputId": "21d0931b-f96b-4fdc-c87d-0c43f7aa68ee"
      },
      "execution_count": null,
      "outputs": [
        {
          "output_type": "stream",
          "name": "stdout",
          "text": [
            "   Tenure  Tenure_scaled\n",
            "0    39.0       0.644068\n",
            "1    49.0       0.813559\n",
            "2    14.0       0.220339\n",
            "3    38.0       0.627119\n",
            "4    32.0       0.525424\n"
          ]
        }
      ]
    },
    {
      "cell_type": "code",
      "source": [
        "# Aplicar MinMaxScaling a la variable ''Usage Frequency''\n",
        "\n",
        "scaler = MinMaxScaler()\n",
        "df['Usage_Frequency_scaled'] = scaler.fit_transform(df[['Usage Frequency']])\n",
        "\n",
        "\n",
        "print(df[['Usage Frequency', 'Usage_Frequency_scaled']].head())"
      ],
      "metadata": {
        "colab": {
          "base_uri": "https://localhost:8080/"
        },
        "id": "W4DRIfvLoe02",
        "outputId": "7ff988b3-496e-47b8-cffd-01dea2f83a02"
      },
      "execution_count": null,
      "outputs": [
        {
          "output_type": "stream",
          "name": "stdout",
          "text": [
            "   Usage Frequency  Usage_Frequency_scaled\n",
            "0             14.0                0.448276\n",
            "1              1.0                0.000000\n",
            "2              4.0                0.103448\n",
            "3             21.0                0.689655\n",
            "4             20.0                0.655172\n"
          ]
        }
      ]
    },
    {
      "cell_type": "code",
      "source": [
        "# Aplicar MinMaxScaling a la variable ''Support Calls''\n",
        "\n",
        "scaler = MinMaxScaler()\n",
        "df['Support_Calls_scaled'] = scaler.fit_transform(df[['Support Calls']])\n",
        "print(df[['Support Calls', 'Support_Calls_scaled']].head())"
      ],
      "metadata": {
        "colab": {
          "base_uri": "https://localhost:8080/"
        },
        "id": "wHd4KamUosGQ",
        "outputId": "7f9f5575-a502-4eaf-f29a-d85e7ff1383b"
      },
      "execution_count": null,
      "outputs": [
        {
          "output_type": "stream",
          "name": "stdout",
          "text": [
            "   Support Calls  Support_Calls_scaled\n",
            "0            5.0                   0.5\n",
            "1           10.0                   1.0\n",
            "2            6.0                   0.6\n",
            "3            7.0                   0.7\n",
            "4            5.0                   0.5\n"
          ]
        }
      ]
    },
    {
      "cell_type": "code",
      "source": [
        "# Aplicar MinMaxScaling a la variable ''Payment Delay''\n",
        "\n",
        "scaler = MinMaxScaler()\n",
        "df['Payment_Delay_scaled'] = scaler.fit_transform(df[['Payment Delay']])\n",
        "print(df[['Payment Delay', 'Payment_Delay_scaled']].head())"
      ],
      "metadata": {
        "colab": {
          "base_uri": "https://localhost:8080/"
        },
        "id": "waOaK6D1pBi2",
        "outputId": "86c4a343-839c-4fa5-e391-8562fd5a129b"
      },
      "execution_count": null,
      "outputs": [
        {
          "output_type": "stream",
          "name": "stdout",
          "text": [
            "   Payment Delay  Payment_Delay_scaled\n",
            "0           18.0              0.600000\n",
            "1            8.0              0.266667\n",
            "2           18.0              0.600000\n",
            "3            7.0              0.233333\n",
            "4            8.0              0.266667\n"
          ]
        }
      ]
    },
    {
      "cell_type": "code",
      "source": [
        "# Aplicar Label Encoder a la variable ''Suscription_type''\n",
        "\n",
        "subscription_map = {'Basic': 0, 'Standard': 1, 'Premium': 2}\n",
        "df['Subscription Type'] = df['Subscription Type'].map(subscription_map)\n",
        "print(df[['Subscription Type']].head())"
      ],
      "metadata": {
        "colab": {
          "base_uri": "https://localhost:8080/"
        },
        "id": "q4uP10zEpPbl",
        "outputId": "614bcfd8-ffd2-49a9-aa71-718b204fe3ea"
      },
      "execution_count": null,
      "outputs": [
        {
          "output_type": "stream",
          "name": "stdout",
          "text": [
            "   Subscription Type\n",
            "0                  1\n",
            "1                  0\n",
            "2                  0\n",
            "3                  1\n",
            "4                  0\n"
          ]
        }
      ]
    },
    {
      "cell_type": "code",
      "source": [
        "# Aplicar Label Encoder a la variable ''Contract_Lenght''\n",
        "\n",
        "contract_map = {'Monthly': 1, 'Quarterly': 3, 'Annual': 12}\n",
        "df['Contract Length'] = df['Contract Length'].map(contract_map)\n",
        "\n",
        "\n",
        "from sklearn.preprocessing import MinMaxScaler\n",
        "scaler = MinMaxScaler()\n",
        "df['Contract_Length_scaled'] = scaler.fit_transform(df[['Contract Length']])\n",
        "\n",
        "\n",
        "print(df[['Contract Length', 'Contract_Length_scaled']].head())"
      ],
      "metadata": {
        "colab": {
          "base_uri": "https://localhost:8080/"
        },
        "id": "mTXY6DRxp-R7",
        "outputId": "04c4dcbf-44ff-43bb-c472-f09ab9611990"
      },
      "execution_count": null,
      "outputs": [
        {
          "output_type": "stream",
          "name": "stdout",
          "text": [
            "   Contract Length  Contract_Length_scaled\n",
            "0               12                1.000000\n",
            "1                1                0.000000\n",
            "2                3                0.181818\n",
            "3                1                0.000000\n",
            "4                1                0.000000\n"
          ]
        }
      ]
    },
    {
      "cell_type": "code",
      "source": [
        "# Aplicar MinMaxScaling a la variable ''Total Spend''\n",
        "\n",
        "scaler = MinMaxScaler()\n",
        "df['Total_Spend_scaled'] = scaler.fit_transform(df[['Total Spend']])\n",
        "print(df[['Total Spend', 'Total_Spend_scaled']].head())"
      ],
      "metadata": {
        "colab": {
          "base_uri": "https://localhost:8080/"
        },
        "id": "ry2_AO8QqAML",
        "outputId": "11fe3808-6e7d-4df0-d396-bd1d32089c79"
      },
      "execution_count": null,
      "outputs": [
        {
          "output_type": "stream",
          "name": "stdout",
          "text": [
            "   Total Spend  Total_Spend_scaled\n",
            "0        932.0            0.924444\n",
            "1        557.0            0.507778\n",
            "2        185.0            0.094444\n",
            "3        396.0            0.328889\n",
            "4        617.0            0.574444\n"
          ]
        }
      ]
    },
    {
      "cell_type": "code",
      "source": [
        "# Aplicar MinMaxScaling a la variable ''Last Interaction''\n",
        "\n",
        "scaler = MinMaxScaler()\n",
        "df['Last_Interaction_scaled'] = scaler.fit_transform(df[['Last Interaction']])\n",
        "print(df[['Last Interaction', 'Last_Interaction_scaled']].head())"
      ],
      "metadata": {
        "colab": {
          "base_uri": "https://localhost:8080/"
        },
        "id": "SFko2VtSq7CI",
        "outputId": "0d275ce2-90f2-4a64-e67b-5a8b0b2d50cf"
      },
      "execution_count": null,
      "outputs": [
        {
          "output_type": "stream",
          "name": "stdout",
          "text": [
            "   Last Interaction  Last_Interaction_scaled\n",
            "0              17.0                 0.551724\n",
            "1               6.0                 0.172414\n",
            "2               3.0                 0.068966\n",
            "3              29.0                 0.965517\n",
            "4              20.0                 0.655172\n"
          ]
        }
      ]
    },
    {
      "cell_type": "code",
      "source": [
        "#Ingenieria Inversa entre Tenure y Total Spend para obtener el gasto mensual por cliente\n",
        "\n",
        "\n",
        "df['Tenure_safe'] = df['Tenure'].replace(0, np.nan)\n",
        "\n",
        "df['Monthly_Spend'] = df['Total Spend'] / df['Tenure_safe']\n",
        "\n",
        "\n",
        "scaler = MinMaxScaler()\n",
        "df['Monthly_Spend_scaled'] = scaler.fit_transform(df[['Monthly_Spend']])\n",
        "\n",
        "\n",
        "print(df[['Total Spend', 'Tenure', 'Monthly_Spend_scaled']].head())"
      ],
      "metadata": {
        "colab": {
          "base_uri": "https://localhost:8080/"
        },
        "id": "rxEyqubStKxJ",
        "outputId": "bcf68a4a-171f-4a2c-d051-cf4b08ca136b"
      },
      "execution_count": null,
      "outputs": [
        {
          "output_type": "stream",
          "name": "stdout",
          "text": [
            "   Total Spend  Tenure  Monthly_Spend_scaled\n",
            "0        932.0    39.0              0.022268\n",
            "1        557.0    49.0              0.009717\n",
            "2        185.0    14.0              0.011567\n",
            "3        396.0    38.0              0.008769\n",
            "4        617.0    32.0              0.017644\n"
          ]
        }
      ]
    },
    {
      "cell_type": "code",
      "source": [
        "print(df.head(10))"
      ],
      "metadata": {
        "colab": {
          "base_uri": "https://localhost:8080/"
        },
        "id": "CHHLcOKQq9xD",
        "outputId": "a1a570ee-0801-402a-f9d8-464552f1c302"
      },
      "execution_count": null,
      "outputs": [
        {
          "output_type": "stream",
          "name": "stdout",
          "text": [
            "    Age  Gender  Tenure  Usage Frequency  Support Calls  Payment Delay  \\\n",
            "0  30.0  Female    39.0             14.0            5.0           18.0   \n",
            "1  65.0  Female    49.0              1.0           10.0            8.0   \n",
            "2  55.0  Female    14.0              4.0            6.0           18.0   \n",
            "3  58.0    Male    38.0             21.0            7.0            7.0   \n",
            "4  23.0    Male    32.0             20.0            5.0            8.0   \n",
            "5  51.0    Male    33.0             25.0            9.0           26.0   \n",
            "6  58.0  Female    49.0             12.0            3.0           16.0   \n",
            "7  55.0  Female    37.0              8.0            4.0           15.0   \n",
            "8  39.0    Male    12.0              5.0            7.0            4.0   \n",
            "9  64.0  Female     3.0             25.0            2.0           11.0   \n",
            "\n",
            "   Subscription Type  Contract Length  Total Spend  Last Interaction  ...  \\\n",
            "0                  1               12        932.0              17.0  ...   \n",
            "1                  0                1        557.0               6.0  ...   \n",
            "2                  0                3        185.0               3.0  ...   \n",
            "3                  1                1        396.0              29.0  ...   \n",
            "4                  0                1        617.0              20.0  ...   \n",
            "5                  2               12        129.0               8.0  ...   \n",
            "6                  1                3        821.0              24.0  ...   \n",
            "7                  2               12        445.0              30.0  ...   \n",
            "8                  1                3        969.0              13.0  ...   \n",
            "9                  1                3        415.0              29.0  ...   \n",
            "\n",
            "   Tenure_scaled Usage_Frequency_scaled Support_Calls_scaled  \\\n",
            "0       0.644068               0.448276                  0.5   \n",
            "1       0.813559               0.000000                  1.0   \n",
            "2       0.220339               0.103448                  0.6   \n",
            "3       0.627119               0.689655                  0.7   \n",
            "4       0.525424               0.655172                  0.5   \n",
            "5       0.542373               0.827586                  0.9   \n",
            "6       0.813559               0.379310                  0.3   \n",
            "7       0.610169               0.241379                  0.4   \n",
            "8       0.186441               0.137931                  0.7   \n",
            "9       0.033898               0.827586                  0.2   \n",
            "\n",
            "  Payment_Delay_scaled Contract_Length_scaled Total_Spend_scaled  \\\n",
            "0             0.600000               1.000000           0.924444   \n",
            "1             0.266667               0.000000           0.507778   \n",
            "2             0.600000               0.181818           0.094444   \n",
            "3             0.233333               0.000000           0.328889   \n",
            "4             0.266667               0.000000           0.574444   \n",
            "5             0.866667               1.000000           0.032222   \n",
            "6             0.533333               0.181818           0.801111   \n",
            "7             0.500000               1.000000           0.383333   \n",
            "8             0.133333               0.181818           0.965556   \n",
            "9             0.366667               0.181818           0.350000   \n",
            "\n",
            "  Last_Interaction_scaled Tenure_safe  Monthly_Spend  Monthly_Spend_scaled  \n",
            "0                0.551724        39.0      23.897436              0.022268  \n",
            "1                0.172414        49.0      11.367347              0.009717  \n",
            "2                0.068966        14.0      13.214286              0.011567  \n",
            "3                0.965517        38.0      10.421053              0.008769  \n",
            "4                0.655172        32.0      19.281250              0.017644  \n",
            "5                0.241379        33.0       3.909091              0.002246  \n",
            "6                0.793103        49.0      16.755102              0.015114  \n",
            "7                1.000000        37.0      12.027027              0.010378  \n",
            "8                0.413793        12.0      80.750000              0.079215  \n",
            "9                0.965517         3.0     138.333333              0.136895  \n",
            "\n",
            "[10 rows x 30 columns]\n"
          ]
        }
      ]
    },
    {
      "cell_type": "code",
      "source": [
        "#Variables que se van a utilizar en los modelos\n",
        "\n",
        "\n",
        "features = [\n",
        "    'Age_scaled',\n",
        "   # 'Tenure_scaled',\n",
        "   # 'Usage_Frequency_scaled',\n",
        "    'Support_Calls_scaled',\n",
        "    'Payment_Delay_scaled',\n",
        "    'Total_Spend_scaled',\n",
        "    'Last_Interaction_scaled',\n",
        "    'Gender_scaled',\n",
        "   # 'Subscription Type',\n",
        "    'Contract_Length_scaled',\n",
        "    'Monthly_Spend_scaled'\n",
        "]\n",
        "\n",
        "X = df[features]\n",
        "Y = df['Churn']\n",
        "\n",
        "from sklearn.model_selection import train_test_split\n",
        "X_train, X_test, Y_train, Y_test = train_test_split(X, Y, test_size=0.2, random_state=42, stratify=Y)"
      ],
      "metadata": {
        "id": "pB1NjcWI0ASc"
      },
      "execution_count": null,
      "outputs": []
    },
    {
      "cell_type": "code",
      "source": [
        "# 3. Modelo 1: SGDClassifier\n",
        "\n",
        "sgd_model = SGDClassifier(loss='log_loss', alpha=0.001, random_state=42, max_iter=5000)\n",
        "sgd_model.fit(X_train, Y_train)\n",
        "\n",
        "\n",
        "Y_pred_sgd = sgd_model.predict(X_test)\n",
        "print(\"SGDClassifier Accuracy (default threshold):\", accuracy_score(Y_test, Y_pred_sgd))\n",
        "print(\"SGDClassifier Classification Report (default threshold):\")\n",
        "print(classification_report(Y_test, Y_pred_sgd))\n",
        "\n",
        "\n",
        "\n",
        "probs_sgd = sgd_model.predict_proba(X_test)[:, 1]\n",
        "\n",
        "thresholds = np.linspace(0, 1, 101)\n",
        "cost_fp = 1\n",
        "cost_fn = 3\n",
        "costs = []\n",
        "\n",
        "for thresh in thresholds:\n",
        "    preds = (probs_sgd >= thresh).astype(int)\n",
        "    tn, fp, fn, tp = confusion_matrix(Y_test, preds).ravel()\n",
        "    cost = fp * cost_fp + fn * cost_fn\n",
        "    costs.append(cost)\n",
        "\n",
        "optimal_threshold = thresholds[np.argmin(costs)]\n",
        "print(\"Optimal threshold based on cost matrix:\", optimal_threshold)\n",
        "\n",
        "optimal_preds = (probs_sgd >= optimal_threshold).astype(int)\n",
        "print(\"SGDClassifier Accuracy (optimal threshold):\", accuracy_score(Y_test, optimal_preds))\n",
        "print(\"SGDClassifier Classification Report (optimal threshold):\")\n",
        "print(classification_report(Y_test, optimal_preds))\n",
        "\n"
      ],
      "metadata": {
        "colab": {
          "base_uri": "https://localhost:8080/"
        },
        "id": "qiJSZ5Ff0BzK",
        "outputId": "3dc30e66-dbcd-4fa1-b29f-a725fd13f3f9"
      },
      "execution_count": null,
      "outputs": [
        {
          "output_type": "stream",
          "name": "stdout",
          "text": [
            "SGDClassifier Accuracy (default threshold): 0.8570553608492973\n",
            "SGDClassifier Classification Report (default threshold):\n",
            "              precision    recall  f1-score   support\n",
            "\n",
            "         0.0       0.82      0.85      0.84     38167\n",
            "         1.0       0.88      0.86      0.87     50000\n",
            "\n",
            "    accuracy                           0.86     88167\n",
            "   macro avg       0.85      0.86      0.85     88167\n",
            "weighted avg       0.86      0.86      0.86     88167\n",
            "\n",
            "Optimal threshold based on cost matrix: 0.3\n",
            "SGDClassifier Accuracy (optimal threshold): 0.8166774416731883\n",
            "SGDClassifier Classification Report (optimal threshold):\n",
            "              precision    recall  f1-score   support\n",
            "\n",
            "         0.0       0.89      0.66      0.76     38167\n",
            "         1.0       0.78      0.94      0.85     50000\n",
            "\n",
            "    accuracy                           0.82     88167\n",
            "   macro avg       0.84      0.80      0.80     88167\n",
            "weighted avg       0.83      0.82      0.81     88167\n",
            "\n"
          ]
        }
      ]
    },
    {
      "cell_type": "code",
      "source": [
        "\n",
        "#Matriz de decisión\n",
        "\n",
        "precision_opt, recall_opt, fscore_opt, support_opt = precision_recall_fscore_support(Y_test, optimal_preds, average=None)\n",
        "\n",
        "\n",
        "metrics_opt = pd.DataFrame({\n",
        "    'Precision': precision_opt,\n",
        "    'Recall': recall_opt,\n",
        "    'F1 Score': fscore_opt,\n",
        "    'Support': support_opt\n",
        "}, index=['No Churn (0)', 'Churn (1)'])\n",
        "\n",
        "\n",
        "\n",
        "metrics_subset = metrics_opt[['Precision', 'Recall']]\n",
        "\n",
        "plt.figure(figsize=(6, 4))\n",
        "sns.heatmap(metrics_subset, annot=True, cmap=\"Blues\", fmt=\".2f\")\n",
        "plt.title(\"Precision & Recall (Optimal Threshold)\")\n",
        "plt.show()"
      ],
      "metadata": {
        "colab": {
          "base_uri": "https://localhost:8080/",
          "height": 391
        },
        "id": "RQPD1u-JswSr",
        "outputId": "58deb4e3-756e-4042-c61b-ead4ef3d6e2f"
      },
      "execution_count": null,
      "outputs": [
        {
          "output_type": "display_data",
          "data": {
            "text/plain": [
              "<Figure size 600x400 with 2 Axes>"
            ],
            "image/png": "[encoded data removed]"
          },
          "metadata": {}
        }
      ]
    },
    {
      "cell_type": "code",
      "source": [
        "# 4. Modelo 2: KNeighborsClassifier\n",
        "from sklearn.neighbors import KNeighborsClassifier\n",
        "\n",
        "# Seleccionamos k=5\n",
        "knn_model = KNeighborsClassifier(n_neighbors=5)\n",
        "knn_model.fit(X_train, Y_train)\n",
        "\n",
        "Y_pred_knn = knn_model.predict(X_test)\n",
        "print(\"KNeighborsClassifier Accuracy:\", accuracy_score(Y_test, Y_pred_knn))\n",
        "print(\"KNeighborsClassifier Classification Report:\")\n",
        "print(classification_report(Y_test, Y_pred_knn))"
      ],
      "metadata": {
        "colab": {
          "base_uri": "https://localhost:8080/"
        },
        "id": "d2Kap9nN1nkX",
        "outputId": "91c259c7-047c-44a1-a0e5-afbcae4f454d"
      },
      "execution_count": null,
      "outputs": [
        {
          "output_type": "stream",
          "name": "stdout",
          "text": [
            "KNeighborsClassifier Accuracy: 0.9778261707895244\n",
            "KNeighborsClassifier Classification Report:\n",
            "              precision    recall  f1-score   support\n",
            "\n",
            "         0.0       0.95      1.00      0.98     38167\n",
            "         1.0       1.00      0.96      0.98     50000\n",
            "\n",
            "    accuracy                           0.98     88167\n",
            "   macro avg       0.98      0.98      0.98     88167\n",
            "weighted avg       0.98      0.98      0.98     88167\n",
            "\n"
          ]
        }
      ]
    },
    {
      "cell_type": "code",
      "source": [
        "\n",
        "#Matriz de decisión\n",
        "\n",
        "precision_knn, recall_knn, _, _ = precision_recall_fscore_support(Y_test, Y_pred_knn, average=None)\n",
        "\n",
        "metrics_knn = pd.DataFrame({\n",
        "    'Precision': precision_knn,\n",
        "    'Recall': recall_knn\n",
        "}, index=['No Churn (0)', 'Churn (1)'])\n",
        "\n",
        "\n",
        "plt.figure(figsize=(6, 4))\n",
        "sns.heatmap(metrics_knn, annot=True, cmap=\"Blues\", fmt=\".2f\")\n",
        "plt.title(\"KNeighborsClassifier: Precision & Recall\")\n",
        "plt.show()"
      ],
      "metadata": {
        "colab": {
          "base_uri": "https://localhost:8080/",
          "height": 391
        },
        "id": "GTscZ2hjtLKT",
        "outputId": "4260dfcf-2142-42b0-dbf7-ac548d66f7b4"
      },
      "execution_count": null,
      "outputs": [
        {
          "output_type": "display_data",
          "data": {
            "text/plain": [
              "<Figure size 600x400 with 2 Axes>"
            ],
            "image/png": "[encoded data removed]"
          },
          "metadata": {}
        }
      ]
    }
  ]
}